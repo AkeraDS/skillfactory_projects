{
 "cells": [
  {
   "cell_type": "code",
   "execution_count": 1,
   "metadata": {},
   "outputs": [],
   "source": [
    "import pandas as pd\n",
    "import matplotlib.pyplot as plt\n",
    "import seaborn as sns\n",
    "import warnings; warnings.simplefilter('ignore')\n",
    "import datetime\n",
    "import numpy as np\n",
    "pd.set_option('display.max_rows', 50) \n",
    "pd.set_option('display.max_columns', 50) \n",
    "\n",
    "flights = pd.read_csv('flights.csv')"
   ]
  },
  {
   "cell_type": "code",
   "execution_count": 2,
   "metadata": {},
   "outputs": [
    {
     "data": {
      "text/html": [
       "<div>\n",
       "<style scoped>\n",
       "    .dataframe tbody tr th:only-of-type {\n",
       "        vertical-align: middle;\n",
       "    }\n",
       "\n",
       "    .dataframe tbody tr th {\n",
       "        vertical-align: top;\n",
       "    }\n",
       "\n",
       "    .dataframe thead th {\n",
       "        text-align: right;\n",
       "    }\n",
       "</style>\n",
       "<table border=\"1\" class=\"dataframe\">\n",
       "  <thead>\n",
       "    <tr style=\"text-align: right;\">\n",
       "      <th></th>\n",
       "      <th>flight_id</th>\n",
       "      <th>actual_departure</th>\n",
       "      <th>departure_city</th>\n",
       "      <th>arrival_city</th>\n",
       "      <th>model</th>\n",
       "      <th>purchased_tickets</th>\n",
       "      <th>business</th>\n",
       "      <th>economy</th>\n",
       "      <th>amount_tickets</th>\n",
       "      <th>minute_in_way</th>\n",
       "      <th>fuel_consumption</th>\n",
       "      <th>profit</th>\n",
       "    </tr>\n",
       "  </thead>\n",
       "  <tbody>\n",
       "    <tr>\n",
       "      <th>20</th>\n",
       "      <td>136729</td>\n",
       "      <td>2017-01-29T09:29:00Z</td>\n",
       "      <td>Anapa</td>\n",
       "      <td>Belgorod</td>\n",
       "      <td>Sukhoi Superjet-100</td>\n",
       "      <td>88</td>\n",
       "      <td>11</td>\n",
       "      <td>77</td>\n",
       "      <td>695400.0</td>\n",
       "      <td>50.0</td>\n",
       "      <td>58630.5250</td>\n",
       "      <td>6.367695e+05</td>\n",
       "    </tr>\n",
       "    <tr>\n",
       "      <th>5</th>\n",
       "      <td>136620</td>\n",
       "      <td>2017-02-17T09:30:00Z</td>\n",
       "      <td>Anapa</td>\n",
       "      <td>Belgorod</td>\n",
       "      <td>Sukhoi Superjet-100</td>\n",
       "      <td>79</td>\n",
       "      <td>9</td>\n",
       "      <td>70</td>\n",
       "      <td>613500.0</td>\n",
       "      <td>49.0</td>\n",
       "      <td>57457.9145</td>\n",
       "      <td>5.560421e+05</td>\n",
       "    </tr>\n",
       "    <tr>\n",
       "      <th>15</th>\n",
       "      <td>136838</td>\n",
       "      <td>2017-01-24T09:30:00Z</td>\n",
       "      <td>Anapa</td>\n",
       "      <td>Belgorod</td>\n",
       "      <td>Sukhoi Superjet-100</td>\n",
       "      <td>86</td>\n",
       "      <td>10</td>\n",
       "      <td>76</td>\n",
       "      <td>670200.0</td>\n",
       "      <td>51.0</td>\n",
       "      <td>59803.1355</td>\n",
       "      <td>6.103969e+05</td>\n",
       "    </tr>\n",
       "    <tr>\n",
       "      <th>108</th>\n",
       "      <td>136249</td>\n",
       "      <td>2017-02-14T10:08:00Z</td>\n",
       "      <td>Anapa</td>\n",
       "      <td>Moscow</td>\n",
       "      <td>Boeing 737-300</td>\n",
       "      <td>123</td>\n",
       "      <td>12</td>\n",
       "      <td>111</td>\n",
       "      <td>1800600.0</td>\n",
       "      <td>98.0</td>\n",
       "      <td>162425.2000</td>\n",
       "      <td>1.638175e+06</td>\n",
       "    </tr>\n",
       "    <tr>\n",
       "      <th>41</th>\n",
       "      <td>136819</td>\n",
       "      <td>2017-01-04T09:29:00Z</td>\n",
       "      <td>Anapa</td>\n",
       "      <td>Belgorod</td>\n",
       "      <td>Sukhoi Superjet-100</td>\n",
       "      <td>96</td>\n",
       "      <td>12</td>\n",
       "      <td>84</td>\n",
       "      <td>759000.0</td>\n",
       "      <td>50.0</td>\n",
       "      <td>58630.5250</td>\n",
       "      <td>7.003695e+05</td>\n",
       "    </tr>\n",
       "    <tr>\n",
       "      <th>10</th>\n",
       "      <td>136645</td>\n",
       "      <td>2017-01-05T09:29:00Z</td>\n",
       "      <td>Anapa</td>\n",
       "      <td>Belgorod</td>\n",
       "      <td>Sukhoi Superjet-100</td>\n",
       "      <td>82</td>\n",
       "      <td>9</td>\n",
       "      <td>73</td>\n",
       "      <td>633000.0</td>\n",
       "      <td>51.0</td>\n",
       "      <td>59803.1355</td>\n",
       "      <td>5.731969e+05</td>\n",
       "    </tr>\n",
       "    <tr>\n",
       "      <th>32</th>\n",
       "      <td>136669</td>\n",
       "      <td>2017-01-17T09:26:00Z</td>\n",
       "      <td>Anapa</td>\n",
       "      <td>Belgorod</td>\n",
       "      <td>Sukhoi Superjet-100</td>\n",
       "      <td>95</td>\n",
       "      <td>12</td>\n",
       "      <td>83</td>\n",
       "      <td>752700.0</td>\n",
       "      <td>51.0</td>\n",
       "      <td>59803.1355</td>\n",
       "      <td>6.928969e+05</td>\n",
       "    </tr>\n",
       "    <tr>\n",
       "      <th>19</th>\n",
       "      <td>136769</td>\n",
       "      <td>2017-02-10T09:30:00Z</td>\n",
       "      <td>Anapa</td>\n",
       "      <td>Belgorod</td>\n",
       "      <td>Sukhoi Superjet-100</td>\n",
       "      <td>88</td>\n",
       "      <td>11</td>\n",
       "      <td>77</td>\n",
       "      <td>696000.0</td>\n",
       "      <td>51.0</td>\n",
       "      <td>59803.1355</td>\n",
       "      <td>6.361969e+05</td>\n",
       "    </tr>\n",
       "    <tr>\n",
       "      <th>21</th>\n",
       "      <td>136855</td>\n",
       "      <td>2017-01-11T12:07:00Z</td>\n",
       "      <td>Anapa</td>\n",
       "      <td>Belgorod</td>\n",
       "      <td>Sukhoi Superjet-100</td>\n",
       "      <td>87</td>\n",
       "      <td>12</td>\n",
       "      <td>75</td>\n",
       "      <td>702300.0</td>\n",
       "      <td>50.0</td>\n",
       "      <td>58630.5250</td>\n",
       "      <td>6.436695e+05</td>\n",
       "    </tr>\n",
       "    <tr>\n",
       "      <th>110</th>\n",
       "      <td>136131</td>\n",
       "      <td>2017-01-28T10:07:00Z</td>\n",
       "      <td>Anapa</td>\n",
       "      <td>Moscow</td>\n",
       "      <td>Boeing 737-300</td>\n",
       "      <td>124</td>\n",
       "      <td>12</td>\n",
       "      <td>112</td>\n",
       "      <td>1812800.0</td>\n",
       "      <td>99.0</td>\n",
       "      <td>164082.6000</td>\n",
       "      <td>1.648717e+06</td>\n",
       "    </tr>\n",
       "  </tbody>\n",
       "</table>\n",
       "</div>"
      ],
      "text/plain": [
       "     flight_id      actual_departure departure_city arrival_city  \\\n",
       "20      136729  2017-01-29T09:29:00Z          Anapa     Belgorod   \n",
       "5       136620  2017-02-17T09:30:00Z          Anapa     Belgorod   \n",
       "15      136838  2017-01-24T09:30:00Z          Anapa     Belgorod   \n",
       "108     136249  2017-02-14T10:08:00Z          Anapa       Moscow   \n",
       "41      136819  2017-01-04T09:29:00Z          Anapa     Belgorod   \n",
       "10      136645  2017-01-05T09:29:00Z          Anapa     Belgorod   \n",
       "32      136669  2017-01-17T09:26:00Z          Anapa     Belgorod   \n",
       "19      136769  2017-02-10T09:30:00Z          Anapa     Belgorod   \n",
       "21      136855  2017-01-11T12:07:00Z          Anapa     Belgorod   \n",
       "110     136131  2017-01-28T10:07:00Z          Anapa       Moscow   \n",
       "\n",
       "                   model  purchased_tickets  business  economy  \\\n",
       "20   Sukhoi Superjet-100                 88        11       77   \n",
       "5    Sukhoi Superjet-100                 79         9       70   \n",
       "15   Sukhoi Superjet-100                 86        10       76   \n",
       "108       Boeing 737-300                123        12      111   \n",
       "41   Sukhoi Superjet-100                 96        12       84   \n",
       "10   Sukhoi Superjet-100                 82         9       73   \n",
       "32   Sukhoi Superjet-100                 95        12       83   \n",
       "19   Sukhoi Superjet-100                 88        11       77   \n",
       "21   Sukhoi Superjet-100                 87        12       75   \n",
       "110       Boeing 737-300                124        12      112   \n",
       "\n",
       "     amount_tickets  minute_in_way  fuel_consumption        profit  \n",
       "20         695400.0           50.0        58630.5250  6.367695e+05  \n",
       "5          613500.0           49.0        57457.9145  5.560421e+05  \n",
       "15         670200.0           51.0        59803.1355  6.103969e+05  \n",
       "108       1800600.0           98.0       162425.2000  1.638175e+06  \n",
       "41         759000.0           50.0        58630.5250  7.003695e+05  \n",
       "10         633000.0           51.0        59803.1355  5.731969e+05  \n",
       "32         752700.0           51.0        59803.1355  6.928969e+05  \n",
       "19         696000.0           51.0        59803.1355  6.361969e+05  \n",
       "21         702300.0           50.0        58630.5250  6.436695e+05  \n",
       "110       1812800.0           99.0       164082.6000  1.648717e+06  "
      ]
     },
     "metadata": {},
     "output_type": "display_data"
    },
    {
     "name": "stdout",
     "output_type": "stream",
     "text": [
      "<class 'pandas.core.frame.DataFrame'>\n",
      "RangeIndex: 118 entries, 0 to 117\n",
      "Data columns (total 12 columns):\n",
      " #   Column             Non-Null Count  Dtype  \n",
      "---  ------             --------------  -----  \n",
      " 0   flight_id          118 non-null    int64  \n",
      " 1   actual_departure   118 non-null    object \n",
      " 2   departure_city     118 non-null    object \n",
      " 3   arrival_city       118 non-null    object \n",
      " 4   model              118 non-null    object \n",
      " 5   purchased_tickets  118 non-null    int64  \n",
      " 6   business           118 non-null    int64  \n",
      " 7   economy            118 non-null    int64  \n",
      " 8   amount_tickets     118 non-null    float64\n",
      " 9   minute_in_way      118 non-null    float64\n",
      " 10  fuel_consumption   118 non-null    float64\n",
      " 11  profit             118 non-null    float64\n",
      "dtypes: float64(4), int64(4), object(4)\n",
      "memory usage: 11.2+ KB\n"
     ]
    },
    {
     "data": {
      "text/plain": [
       "None"
      ]
     },
     "metadata": {},
     "output_type": "display_data"
    }
   ],
   "source": [
    "display(flights.sample(10))\n",
    "display(flights.info())"
   ]
  },
  {
   "cell_type": "markdown",
   "metadata": {},
   "source": [
    "В данном датасете есть информация по 118 рейсам, совершенным зимой 2017 года из Анапы. 7 числовых столбцов(не считая flight_id) и 4 строковых(1 из них дата вылета). Сразу же отредактируем формат даты, отбросим из неё информацию о времени."
   ]
  },
  {
   "cell_type": "code",
   "execution_count": 3,
   "metadata": {},
   "outputs": [],
   "source": [
    "flights.actual_departure = flights.actual_departure.apply(lambda x: datetime.datetime.strptime(x, '%Y-%m-%dT%H:%M:%SZ').date())"
   ]
  },
  {
   "cell_type": "markdown",
   "metadata": {},
   "source": [
    "Посмотрим общую статистику для числовых столбцов."
   ]
  },
  {
   "cell_type": "code",
   "execution_count": 4,
   "metadata": {},
   "outputs": [
    {
     "data": {
      "text/html": [
       "<div>\n",
       "<style scoped>\n",
       "    .dataframe tbody tr th:only-of-type {\n",
       "        vertical-align: middle;\n",
       "    }\n",
       "\n",
       "    .dataframe tbody tr th {\n",
       "        vertical-align: top;\n",
       "    }\n",
       "\n",
       "    .dataframe thead th {\n",
       "        text-align: right;\n",
       "    }\n",
       "</style>\n",
       "<table border=\"1\" class=\"dataframe\">\n",
       "  <thead>\n",
       "    <tr style=\"text-align: right;\">\n",
       "      <th></th>\n",
       "      <th>flight_id</th>\n",
       "      <th>purchased_tickets</th>\n",
       "      <th>business</th>\n",
       "      <th>economy</th>\n",
       "      <th>amount_tickets</th>\n",
       "      <th>minute_in_way</th>\n",
       "      <th>fuel_consumption</th>\n",
       "      <th>profit</th>\n",
       "    </tr>\n",
       "  </thead>\n",
       "  <tbody>\n",
       "    <tr>\n",
       "      <th>count</th>\n",
       "      <td>118.000000</td>\n",
       "      <td>118.000000</td>\n",
       "      <td>118.000000</td>\n",
       "      <td>118.000000</td>\n",
       "      <td>1.180000e+02</td>\n",
       "      <td>118.000000</td>\n",
       "      <td>118.000000</td>\n",
       "      <td>1.180000e+02</td>\n",
       "    </tr>\n",
       "    <tr>\n",
       "      <th>mean</th>\n",
       "      <td>136533.440678</td>\n",
       "      <td>101.652542</td>\n",
       "      <td>10.788136</td>\n",
       "      <td>90.864407</td>\n",
       "      <td>1.176506e+06</td>\n",
       "      <td>74.957627</td>\n",
       "      <td>112094.491758</td>\n",
       "      <td>1.064411e+06</td>\n",
       "    </tr>\n",
       "    <tr>\n",
       "      <th>std</th>\n",
       "      <td>261.971994</td>\n",
       "      <td>14.295643</td>\n",
       "      <td>1.395057</td>\n",
       "      <td>14.028003</td>\n",
       "      <td>4.794251e+05</td>\n",
       "      <td>24.992783</td>\n",
       "      <td>53607.187615</td>\n",
       "      <td>4.273379e+05</td>\n",
       "    </tr>\n",
       "    <tr>\n",
       "      <th>min</th>\n",
       "      <td>136119.000000</td>\n",
       "      <td>64.000000</td>\n",
       "      <td>6.000000</td>\n",
       "      <td>54.000000</td>\n",
       "      <td>5.310000e+05</td>\n",
       "      <td>49.000000</td>\n",
       "      <td>57457.914500</td>\n",
       "      <td>4.723695e+05</td>\n",
       "    </tr>\n",
       "    <tr>\n",
       "      <th>25%</th>\n",
       "      <td>136286.250000</td>\n",
       "      <td>95.000000</td>\n",
       "      <td>10.000000</td>\n",
       "      <td>83.000000</td>\n",
       "      <td>7.464000e+05</td>\n",
       "      <td>50.000000</td>\n",
       "      <td>58630.525000</td>\n",
       "      <td>6.877695e+05</td>\n",
       "    </tr>\n",
       "    <tr>\n",
       "      <th>50%</th>\n",
       "      <td>136528.500000</td>\n",
       "      <td>97.000000</td>\n",
       "      <td>11.000000</td>\n",
       "      <td>85.500000</td>\n",
       "      <td>1.081650e+06</td>\n",
       "      <td>74.500000</td>\n",
       "      <td>111114.167750</td>\n",
       "      <td>9.700510e+05</td>\n",
       "    </tr>\n",
       "    <tr>\n",
       "      <th>75%</th>\n",
       "      <td>136768.500000</td>\n",
       "      <td>111.750000</td>\n",
       "      <td>12.000000</td>\n",
       "      <td>101.750000</td>\n",
       "      <td>1.625850e+06</td>\n",
       "      <td>100.000000</td>\n",
       "      <td>165740.000000</td>\n",
       "      <td>1.461767e+06</td>\n",
       "    </tr>\n",
       "    <tr>\n",
       "      <th>max</th>\n",
       "      <td>136956.000000</td>\n",
       "      <td>130.000000</td>\n",
       "      <td>12.000000</td>\n",
       "      <td>118.000000</td>\n",
       "      <td>1.886000e+06</td>\n",
       "      <td>103.000000</td>\n",
       "      <td>170712.200000</td>\n",
       "      <td>1.720260e+06</td>\n",
       "    </tr>\n",
       "  </tbody>\n",
       "</table>\n",
       "</div>"
      ],
      "text/plain": [
       "           flight_id  purchased_tickets    business     economy  \\\n",
       "count     118.000000         118.000000  118.000000  118.000000   \n",
       "mean   136533.440678         101.652542   10.788136   90.864407   \n",
       "std       261.971994          14.295643    1.395057   14.028003   \n",
       "min    136119.000000          64.000000    6.000000   54.000000   \n",
       "25%    136286.250000          95.000000   10.000000   83.000000   \n",
       "50%    136528.500000          97.000000   11.000000   85.500000   \n",
       "75%    136768.500000         111.750000   12.000000  101.750000   \n",
       "max    136956.000000         130.000000   12.000000  118.000000   \n",
       "\n",
       "       amount_tickets  minute_in_way  fuel_consumption        profit  \n",
       "count    1.180000e+02     118.000000        118.000000  1.180000e+02  \n",
       "mean     1.176506e+06      74.957627     112094.491758  1.064411e+06  \n",
       "std      4.794251e+05      24.992783      53607.187615  4.273379e+05  \n",
       "min      5.310000e+05      49.000000      57457.914500  4.723695e+05  \n",
       "25%      7.464000e+05      50.000000      58630.525000  6.877695e+05  \n",
       "50%      1.081650e+06      74.500000     111114.167750  9.700510e+05  \n",
       "75%      1.625850e+06     100.000000     165740.000000  1.461767e+06  \n",
       "max      1.886000e+06     103.000000     170712.200000  1.720260e+06  "
      ]
     },
     "metadata": {},
     "output_type": "display_data"
    }
   ],
   "source": [
    "display(flights.describe())"
   ]
  },
  {
   "cell_type": "code",
   "execution_count": 5,
   "metadata": {},
   "outputs": [],
   "source": [
    "plt.rcParams['figure.figsize'] = (10,7)\n",
    "def statistics(column):\n",
    "    graph=pd.DataFrame({'Рейсы до Москвы' : list(flights[column][flights.arrival_city=='Moscow']),\n",
    "                           'Рейсы до Белгорода' : list(flights[column][flights.arrival_city=='Belgorod'])})\n",
    "    graph.plot(kind='hist', bins=59, alpha = 0.7)\n",
    "    print('Общая статистика:')\n",
    "    display(flights[column].describe())\n",
    "    print('Статистика рейсов до Москвы:')\n",
    "    display(flights[column][flights.arrival_city=='Moscow'].describe())\n",
    "    print('Статистика рейсов до Белгорода:')\n",
    "    display(flights[column][flights.arrival_city=='Belgorod'].describe())\n",
    "    "
   ]
  },
  {
   "cell_type": "markdown",
   "metadata": {},
   "source": [
    "## Рассмотрим распределение признаков"
   ]
  },
  {
   "cell_type": "markdown",
   "metadata": {},
   "source": [
    "Столбец flight_id является идентификатором рейса и не нуждается в анализе.\n",
    "Целевой переменной является столбец profit, ра него мы и посмотрим в первую очередь. "
   ]
  },
  {
   "cell_type": "markdown",
   "metadata": {},
   "source": [
    "### Profit"
   ]
  },
  {
   "cell_type": "code",
   "execution_count": 6,
   "metadata": {},
   "outputs": [
    {
     "name": "stdout",
     "output_type": "stream",
     "text": [
      "Общая статистика:\n"
     ]
    },
    {
     "data": {
      "text/plain": [
       "count    1.180000e+02\n",
       "mean     1.064411e+06\n",
       "std      4.273379e+05\n",
       "min      4.723695e+05\n",
       "25%      6.877695e+05\n",
       "50%      9.700510e+05\n",
       "75%      1.461767e+06\n",
       "max      1.720260e+06\n",
       "Name: profit, dtype: float64"
      ]
     },
     "metadata": {},
     "output_type": "display_data"
    },
    {
     "name": "stdout",
     "output_type": "stream",
     "text": [
      "Статистика рейсов до Москвы:\n"
     ]
    },
    {
     "data": {
      "text/plain": [
       "count    5.900000e+01\n",
       "mean     1.477117e+06\n",
       "std      1.324454e+05\n",
       "min      1.232260e+06\n",
       "25%      1.379117e+06\n",
       "50%      1.464517e+06\n",
       "75%      1.574317e+06\n",
       "max      1.720260e+06\n",
       "Name: profit, dtype: float64"
      ]
     },
     "metadata": {},
     "output_type": "display_data"
    },
    {
     "name": "stdout",
     "output_type": "stream",
     "text": [
      "Статистика рейсов до Белгорода:\n"
     ]
    },
    {
     "data": {
      "text/plain": [
       "count        59.000000\n",
       "mean     651705.694449\n",
       "std       65702.711571\n",
       "min      472369.475000\n",
       "25%      608133.169750\n",
       "50%      687769.475000\n",
       "75%      705496.864500\n",
       "max      707842.085500\n",
       "Name: profit, dtype: float64"
      ]
     },
     "metadata": {},
     "output_type": "display_data"
    },
    {
     "data": {
      "image/png": "[encoded data removed]",
      "text/plain": [
       "<Figure size 720x504 with 1 Axes>"
      ]
     },
     "metadata": {
      "needs_background": "light"
     },
     "output_type": "display_data"
    }
   ],
   "source": [
    "statistics('profit')"
   ]
  },
  {
   "cell_type": "markdown",
   "metadata": {},
   "source": [
    "По графикy видно, что наибольшая выручка от рейсов в Москву, а у 2х рейсов в Белгород Прибыль составляет менее 500000."
   ]
  },
  {
   "cell_type": "markdown",
   "metadata": {},
   "source": [
    "## Arrival_city и Model\n",
    "Посмотрим как распределены города прибытия и модели самолетов. Нам известно, что каждый день из Анапы вылетает по 2 самолета: 1й - в Москву, 2й - в Белгород. Давайте посмотрим какие модели куда летают."
   ]
  },
  {
   "cell_type": "code",
   "execution_count": 7,
   "metadata": {},
   "outputs": [
    {
     "data": {
      "text/plain": [
       "<AxesSubplot:xlabel='arrival_city', ylabel='count'>"
      ]
     },
     "execution_count": 7,
     "metadata": {},
     "output_type": "execute_result"
    },
    {
     "data": {
      "image/png": "[encoded data removed]",
      "text/plain": [
       "<Figure size 720x504 with 1 Axes>"
      ]
     },
     "metadata": {
      "needs_background": "light"
     },
     "output_type": "display_data"
    }
   ],
   "source": [
    "sns.countplot(flights.loc[:,'arrival_city'][flights.model == 'Sukhoi Superjet-100'])"
   ]
  },
  {
   "cell_type": "code",
   "execution_count": 8,
   "metadata": {},
   "outputs": [
    {
     "data": {
      "text/plain": [
       "<AxesSubplot:xlabel='arrival_city', ylabel='count'>"
      ]
     },
     "execution_count": 8,
     "metadata": {},
     "output_type": "execute_result"
    },
    {
     "data": {
      "image/png": "[encoded data removed]",
      "text/plain": [
       "<Figure size 720x504 with 1 Axes>"
      ]
     },
     "metadata": {
      "needs_background": "light"
     },
     "output_type": "display_data"
    }
   ],
   "source": [
    "sns.countplot(flights.loc[:,'arrival_city'][flights.model == 'Boeing 737-300'])"
   ]
  },
  {
   "cell_type": "markdown",
   "metadata": {},
   "source": [
    "Значит все самолеты модели Boeing 737-300 совершают рейсы в Москву, а модель Sukhoi Superjet-100 летает в Белгород. Давайте посмотрим как сильно различаются показатели прибыли по городам."
   ]
  },
  {
   "cell_type": "code",
   "execution_count": 9,
   "metadata": {},
   "outputs": [
    {
     "data": {
      "text/plain": [
       "(array([0, 1]), [Text(0, 0, 'Belgorod'), Text(1, 0, 'Moscow')])"
      ]
     },
     "execution_count": 9,
     "metadata": {},
     "output_type": "execute_result"
    },
    {
     "data": {
      "image/png": "[encoded data removed]",
      "text/plain": [
       "<Figure size 720x504 with 1 Axes>"
      ]
     },
     "metadata": {
      "needs_background": "light"
     },
     "output_type": "display_data"
    }
   ],
   "source": [
    "sns.boxplot(x='arrival_city', y='profit', \n",
    "               data = flights)\n",
    "plt.xticks(rotation=45)"
   ]
  },
  {
   "cell_type": "markdown",
   "metadata": {},
   "source": [
    "По графику видно, как сильно отличается прибыльность рейсов в Москву и Белгород."
   ]
  },
  {
   "cell_type": "markdown",
   "metadata": {},
   "source": [
    "## Purchased_tickets \n",
    "Так как максимальное количество мест в самолетах разное, лучше посмотрим на распределение этого признака как по каждому из самолетов, так и общее. Вместе с этим посмотрим, как часто самолет заполнялся менее чем на 75 процентов."
   ]
  },
  {
   "cell_type": "code",
   "execution_count": 10,
   "metadata": {},
   "outputs": [
    {
     "name": "stdout",
     "output_type": "stream",
     "text": [
      "Общая статистика:\n"
     ]
    },
    {
     "data": {
      "text/plain": [
       "count    118.000000\n",
       "mean     101.652542\n",
       "std       14.295643\n",
       "min       64.000000\n",
       "25%       95.000000\n",
       "50%       97.000000\n",
       "75%      111.750000\n",
       "max      130.000000\n",
       "Name: purchased_tickets, dtype: float64"
      ]
     },
     "metadata": {},
     "output_type": "display_data"
    },
    {
     "name": "stdout",
     "output_type": "stream",
     "text": [
      "Статистика рейсов до Москвы:\n"
     ]
    },
    {
     "data": {
      "text/plain": [
       "count     59.000000\n",
       "mean     113.118644\n",
       "std        8.896115\n",
       "min       97.000000\n",
       "25%      107.000000\n",
       "50%      112.000000\n",
       "75%      120.000000\n",
       "max      130.000000\n",
       "Name: purchased_tickets, dtype: float64"
      ]
     },
     "metadata": {},
     "output_type": "display_data"
    },
    {
     "name": "stdout",
     "output_type": "stream",
     "text": [
      "Статистика рейсов до Белгорода:\n"
     ]
    },
    {
     "data": {
      "text/plain": [
       "count    59.000000\n",
       "mean     90.186441\n",
       "std       8.101670\n",
       "min      64.000000\n",
       "25%      86.500000\n",
       "50%      95.000000\n",
       "75%      97.000000\n",
       "max      97.000000\n",
       "Name: purchased_tickets, dtype: float64"
      ]
     },
     "metadata": {},
     "output_type": "display_data"
    },
    {
     "data": {
      "image/png": "[encoded data removed]",
      "text/plain": [
       "<Figure size 720x504 with 1 Axes>"
      ]
     },
     "metadata": {
      "needs_background": "light"
     },
     "output_type": "display_data"
    }
   ],
   "source": [
    "statistics('purchased_tickets')"
   ]
  },
  {
   "cell_type": "code",
   "execution_count": 11,
   "metadata": {},
   "outputs": [
    {
     "name": "stdout",
     "output_type": "stream",
     "text": [
      "Количество рейсов до Москвы, заполненных менее чем на 75%: 0\n",
      "Количество рейсов до Белгорода, заполненных менее чем на 75%: 2\n"
     ]
    }
   ],
   "source": [
    "print(f'Количество рейсов до Москвы, заполненных менее чем на 75%: {sum(flights.purchased_tickets[flights.arrival_city==\"Moscow\"] < int(130*0.75))}')\n",
    "print(f'Количество рейсов до Белгорода, заполненных менее чем на 75%: {sum(flights.purchased_tickets[flights.arrival_city==\"Belgorod\"] < int(97*0.75))}')"
   ]
  },
  {
   "cell_type": "markdown",
   "metadata": {},
   "source": [
    "2 малозаполненных рейса на Белгород. Давайте посмотрим, входят ли эти 2 рейса в число самых малоприбыльных."
   ]
  },
  {
   "cell_type": "code",
   "execution_count": 12,
   "metadata": {},
   "outputs": [
    {
     "data": {
      "text/html": [
       "<div>\n",
       "<style scoped>\n",
       "    .dataframe tbody tr th:only-of-type {\n",
       "        vertical-align: middle;\n",
       "    }\n",
       "\n",
       "    .dataframe tbody tr th {\n",
       "        vertical-align: top;\n",
       "    }\n",
       "\n",
       "    .dataframe thead th {\n",
       "        text-align: right;\n",
       "    }\n",
       "</style>\n",
       "<table border=\"1\" class=\"dataframe\">\n",
       "  <thead>\n",
       "    <tr style=\"text-align: right;\">\n",
       "      <th></th>\n",
       "      <th>flight_id</th>\n",
       "      <th>actual_departure</th>\n",
       "      <th>departure_city</th>\n",
       "      <th>arrival_city</th>\n",
       "      <th>model</th>\n",
       "      <th>purchased_tickets</th>\n",
       "      <th>business</th>\n",
       "      <th>economy</th>\n",
       "      <th>amount_tickets</th>\n",
       "      <th>minute_in_way</th>\n",
       "      <th>fuel_consumption</th>\n",
       "      <th>profit</th>\n",
       "    </tr>\n",
       "  </thead>\n",
       "  <tbody>\n",
       "    <tr>\n",
       "      <th>0</th>\n",
       "      <td>136807</td>\n",
       "      <td>2017-02-23</td>\n",
       "      <td>Anapa</td>\n",
       "      <td>Belgorod</td>\n",
       "      <td>Sukhoi Superjet-100</td>\n",
       "      <td>68</td>\n",
       "      <td>8</td>\n",
       "      <td>60</td>\n",
       "      <td>531000.0</td>\n",
       "      <td>50.0</td>\n",
       "      <td>58630.5250</td>\n",
       "      <td>472369.4750</td>\n",
       "    </tr>\n",
       "    <tr>\n",
       "      <th>1</th>\n",
       "      <td>136642</td>\n",
       "      <td>2017-01-30</td>\n",
       "      <td>Anapa</td>\n",
       "      <td>Belgorod</td>\n",
       "      <td>Sukhoi Superjet-100</td>\n",
       "      <td>64</td>\n",
       "      <td>10</td>\n",
       "      <td>54</td>\n",
       "      <td>531000.0</td>\n",
       "      <td>49.0</td>\n",
       "      <td>57457.9145</td>\n",
       "      <td>473542.0855</td>\n",
       "    </tr>\n",
       "  </tbody>\n",
       "</table>\n",
       "</div>"
      ],
      "text/plain": [
       "   flight_id actual_departure departure_city arrival_city  \\\n",
       "0     136807       2017-02-23          Anapa     Belgorod   \n",
       "1     136642       2017-01-30          Anapa     Belgorod   \n",
       "\n",
       "                 model  purchased_tickets  business  economy  amount_tickets  \\\n",
       "0  Sukhoi Superjet-100                 68         8       60        531000.0   \n",
       "1  Sukhoi Superjet-100                 64        10       54        531000.0   \n",
       "\n",
       "   minute_in_way  fuel_consumption       profit  \n",
       "0           50.0        58630.5250  472369.4750  \n",
       "1           49.0        57457.9145  473542.0855  "
      ]
     },
     "metadata": {},
     "output_type": "display_data"
    }
   ],
   "source": [
    "display(flights[(flights['purchased_tickets'] < int(97*0.75)) & (flights['profit'] < 500000)])\n"
   ]
  },
  {
   "cell_type": "markdown",
   "metadata": {},
   "source": [
    "Да, 2 самых малоприбыльных рейса являются также и самыми плохо заполненными. "
   ]
  },
  {
   "cell_type": "markdown",
   "metadata": {},
   "source": [
    "## Business and economy\n",
    "Рассмотрим распределение этих 2х признаков"
   ]
  },
  {
   "cell_type": "code",
   "execution_count": 13,
   "metadata": {},
   "outputs": [
    {
     "data": {
      "text/plain": [
       "<AxesSubplot:xlabel='model', ylabel='economy'>"
      ]
     },
     "execution_count": 13,
     "metadata": {},
     "output_type": "execute_result"
    },
    {
     "data": {
      "image/png": "[encoded data removed]",
      "text/plain": [
       "<Figure size 720x504 with 1 Axes>"
      ]
     },
     "metadata": {
      "needs_background": "light"
     },
     "output_type": "display_data"
    }
   ],
   "source": [
    "sns.barplot(x=flights.model, y = flights.economy)"
   ]
  },
  {
   "cell_type": "code",
   "execution_count": 14,
   "metadata": {},
   "outputs": [
    {
     "data": {
      "text/plain": [
       "<AxesSubplot:xlabel='model', ylabel='business'>"
      ]
     },
     "execution_count": 14,
     "metadata": {},
     "output_type": "execute_result"
    },
    {
     "data": {
      "image/png": "[encoded data removed]",
      "text/plain": [
       "<Figure size 720x504 with 1 Axes>"
      ]
     },
     "metadata": {
      "needs_background": "light"
     },
     "output_type": "display_data"
    }
   ],
   "source": [
    "sns.barplot(x=flights.model, y = flights.business)"
   ]
  },
  {
   "cell_type": "markdown",
   "metadata": {},
   "source": [
    "Давайте посмотрим, как сильно влияют на прибыль количество купленных билетов эконом и бизнес класса."
   ]
  },
  {
   "cell_type": "code",
   "execution_count": 15,
   "metadata": {},
   "outputs": [
    {
     "data": {
      "text/plain": [
       "<AxesSubplot:xlabel='profit', ylabel='business'>"
      ]
     },
     "execution_count": 15,
     "metadata": {},
     "output_type": "execute_result"
    },
    {
     "data": {
      "image/png": "[encoded data removed]",
      "text/plain": [
       "<Figure size 720x504 with 1 Axes>"
      ]
     },
     "metadata": {
      "needs_background": "light"
     },
     "output_type": "display_data"
    }
   ],
   "source": [
    "sns.scatterplot(data=flights[flights.arrival_city=='Belgorod'], x='profit', y='business', label = 'Рейсы до Белгорода' )\n",
    "sns.scatterplot(data=flights[flights.arrival_city=='Moscow'], x='profit', y='business', label = 'Рейсы до Москвы')"
   ]
  },
  {
   "cell_type": "code",
   "execution_count": 16,
   "metadata": {},
   "outputs": [
    {
     "data": {
      "text/plain": [
       "<AxesSubplot:xlabel='profit', ylabel='economy'>"
      ]
     },
     "execution_count": 16,
     "metadata": {},
     "output_type": "execute_result"
    },
    {
     "data": {
      "image/png": "[encoded data removed]",
      "text/plain": [
       "<Figure size 720x504 with 1 Axes>"
      ]
     },
     "metadata": {
      "needs_background": "light"
     },
     "output_type": "display_data"
    }
   ],
   "source": [
    "sns.scatterplot(data=flights[flights.arrival_city=='Belgorod'], x='profit', y='economy', label = 'Рейсы до Белгорода' )\n",
    "sns.scatterplot(data=flights[flights.arrival_city=='Moscow'], x='profit', y='economy', label = 'Рейсы до Москвы')"
   ]
  },
  {
   "cell_type": "markdown",
   "metadata": {},
   "source": [
    "По графикам четко видно, что основная прибыль в большинстве своем зависит от количества проданных билетов эконом класса, а зависимость количества проданных билетов бизнес класса сильнее выражена в рейсах до Белгорода. "
   ]
  },
  {
   "cell_type": "markdown",
   "metadata": {},
   "source": [
    "## Amount_tickets \n",
    "Теперь давайте посмотрим, как распределена общая стоимость билетов с разделением по городам."
   ]
  },
  {
   "cell_type": "code",
   "execution_count": 17,
   "metadata": {},
   "outputs": [
    {
     "name": "stdout",
     "output_type": "stream",
     "text": [
      "Общая статистика:\n"
     ]
    },
    {
     "data": {
      "text/plain": [
       "count    1.180000e+02\n",
       "mean     1.176506e+06\n",
       "std      4.794251e+05\n",
       "min      5.310000e+05\n",
       "25%      7.464000e+05\n",
       "50%      1.081650e+06\n",
       "75%      1.625850e+06\n",
       "max      1.886000e+06\n",
       "Name: amount_tickets, dtype: float64"
      ]
     },
     "metadata": {},
     "output_type": "display_data"
    },
    {
     "name": "stdout",
     "output_type": "stream",
     "text": [
      "Статистика рейсов до Москвы:\n"
     ]
    },
    {
     "data": {
      "text/plain": [
       "count    5.900000e+01\n",
       "mean     1.642576e+06\n",
       "std      1.318786e+05\n",
       "min      1.398000e+06\n",
       "25%      1.543200e+06\n",
       "50%      1.628600e+06\n",
       "75%      1.738400e+06\n",
       "max      1.886000e+06\n",
       "Name: amount_tickets, dtype: float64"
      ]
     },
     "metadata": {},
     "output_type": "display_data"
    },
    {
     "name": "stdout",
     "output_type": "stream",
     "text": [
      "Статистика рейсов до Белгорода:\n"
     ]
    },
    {
     "data": {
      "text/plain": [
       "count        59.000000\n",
       "mean     710435.593220\n",
       "std       65835.266628\n",
       "min      531000.000000\n",
       "25%      667350.000000\n",
       "50%      746400.000000\n",
       "75%      765300.000000\n",
       "max      765300.000000\n",
       "Name: amount_tickets, dtype: float64"
      ]
     },
     "metadata": {},
     "output_type": "display_data"
    },
    {
     "data": {
      "image/png": "[encoded data removed]",
      "text/plain": [
       "<Figure size 720x504 with 1 Axes>"
      ]
     },
     "metadata": {
      "needs_background": "light"
     },
     "output_type": "display_data"
    }
   ],
   "source": [
    "statistics('amount_tickets')"
   ]
  },
  {
   "cell_type": "markdown",
   "metadata": {},
   "source": [
    "Достаточно большой разрыв в стоимости билетов между 800тыс. и ~1,4млн. Рейсы с общей стоимостью менее 800тыс летят в Белгород, а стоимостью выше 1,4млн в Москву. Скорее всего это связано с тем, что расстояние до Москвы больше чем до Белгорода. Давайте в этом убедимся."
   ]
  },
  {
   "cell_type": "markdown",
   "metadata": {},
   "source": [
    "## Minute_in_way"
   ]
  },
  {
   "cell_type": "code",
   "execution_count": 18,
   "metadata": {},
   "outputs": [
    {
     "name": "stdout",
     "output_type": "stream",
     "text": [
      "Общая статистика:\n"
     ]
    },
    {
     "data": {
      "text/plain": [
       "count    118.000000\n",
       "mean      74.957627\n",
       "std       24.992783\n",
       "min       49.000000\n",
       "25%       50.000000\n",
       "50%       74.500000\n",
       "75%      100.000000\n",
       "max      103.000000\n",
       "Name: minute_in_way, dtype: float64"
      ]
     },
     "metadata": {},
     "output_type": "display_data"
    },
    {
     "name": "stdout",
     "output_type": "stream",
     "text": [
      "Статистика рейсов до Москвы:\n"
     ]
    },
    {
     "data": {
      "text/plain": [
       "count     59.000000\n",
       "mean      99.830508\n",
       "std        0.985280\n",
       "min       98.000000\n",
       "25%       99.000000\n",
       "50%      100.000000\n",
       "75%      100.000000\n",
       "max      103.000000\n",
       "Name: minute_in_way, dtype: float64"
      ]
     },
     "metadata": {},
     "output_type": "display_data"
    },
    {
     "name": "stdout",
     "output_type": "stream",
     "text": [
      "Статистика рейсов до Белгорода:\n"
     ]
    },
    {
     "data": {
      "text/plain": [
       "count    59.000000\n",
       "mean     50.084746\n",
       "std       0.650945\n",
       "min      49.000000\n",
       "25%      50.000000\n",
       "50%      50.000000\n",
       "75%      50.500000\n",
       "max      51.000000\n",
       "Name: minute_in_way, dtype: float64"
      ]
     },
     "metadata": {},
     "output_type": "display_data"
    },
    {
     "data": {
      "image/png": "[encoded data removed]",
      "text/plain": [
       "<Figure size 720x504 with 1 Axes>"
      ]
     },
     "metadata": {
      "needs_background": "light"
     },
     "output_type": "display_data"
    }
   ],
   "source": [
    "statistics('minute_in_way')"
   ]
  },
  {
   "cell_type": "markdown",
   "metadata": {},
   "source": [
    "Среднее время в пути до Белгорода около 50 минут, тем временем до Москвы лететь в 2 раза дольше. Значит и на топливо до Москвы будет большие траты."
   ]
  },
  {
   "cell_type": "markdown",
   "metadata": {},
   "source": [
    "## Fuel_consumption\n",
    "Рассмотрим столбец расходов на топливо."
   ]
  },
  {
   "cell_type": "code",
   "execution_count": 19,
   "metadata": {},
   "outputs": [
    {
     "name": "stdout",
     "output_type": "stream",
     "text": [
      "Общая статистика:\n"
     ]
    },
    {
     "data": {
      "text/plain": [
       "count       118.000000\n",
       "mean     112094.491758\n",
       "std       53607.187615\n",
       "min       57457.914500\n",
       "25%       58630.525000\n",
       "50%      111114.167750\n",
       "75%      165740.000000\n",
       "max      170712.200000\n",
       "Name: fuel_consumption, dtype: float64"
      ]
     },
     "metadata": {},
     "output_type": "display_data"
    },
    {
     "name": "stdout",
     "output_type": "stream",
     "text": [
      "Статистика рейсов до Москвы:\n"
     ]
    },
    {
     "data": {
      "text/plain": [
       "count        59.000000\n",
       "mean     165459.084746\n",
       "std        1633.003614\n",
       "min      162425.200000\n",
       "25%      164082.600000\n",
       "50%      165740.000000\n",
       "75%      165740.000000\n",
       "max      170712.200000\n",
       "Name: fuel_consumption, dtype: float64"
      ]
     },
     "metadata": {},
     "output_type": "display_data"
    },
    {
     "name": "stdout",
     "output_type": "stream",
     "text": [
      "Статистика рейсов до Белгорода:\n"
     ]
    },
    {
     "data": {
      "text/plain": [
       "count       59.000000\n",
       "mean     58729.898771\n",
       "std        763.304420\n",
       "min      57457.914500\n",
       "25%      58630.525000\n",
       "50%      58630.525000\n",
       "75%      59216.830250\n",
       "max      59803.135500\n",
       "Name: fuel_consumption, dtype: float64"
      ]
     },
     "metadata": {},
     "output_type": "display_data"
    },
    {
     "data": {
      "image/png": "[encoded data removed]",
      "text/plain": [
       "<Figure size 720x504 with 1 Axes>"
      ]
     },
     "metadata": {
      "needs_background": "light"
     },
     "output_type": "display_data"
    }
   ],
   "source": [
    "statistics('fuel_consumption')"
   ]
  },
  {
   "cell_type": "code",
   "execution_count": 20,
   "metadata": {},
   "outputs": [
    {
     "data": {
      "text/plain": [
       "<AxesSubplot:xlabel='model', ylabel='fuel_consumption'>"
      ]
     },
     "execution_count": 20,
     "metadata": {},
     "output_type": "execute_result"
    },
    {
     "data": {
      "image/png": "[encoded data removed]",
      "text/plain": [
       "<Figure size 720x504 with 1 Axes>"
      ]
     },
     "metadata": {
      "needs_background": "light"
     },
     "output_type": "display_data"
    }
   ],
   "source": [
    "sns.barplot(x=flights.model, y = flights.fuel_consumption)"
   ]
  },
  {
   "cell_type": "markdown",
   "metadata": {},
   "source": [
    "Расходы на топливо у Boeing, который летает в Москву, значительно больше, чем у Sukhoi Superjet, который летит до Белгорода."
   ]
  },
  {
   "cell_type": "markdown",
   "metadata": {},
   "source": [
    "# Выводы и рекомендации: "
   ]
  },
  {
   "cell_type": "markdown",
   "metadata": {},
   "source": [
    "1. Расчет прибыли производился по простейшей формуле: сумма выкупленных билетов - расходы на топливо на рейс.\n",
    "2. Рейсы, которые я предлагаю убрать по причине малой заполненности и небольшой прибыли:"
   ]
  },
  {
   "cell_type": "code",
   "execution_count": 21,
   "metadata": {},
   "outputs": [
    {
     "data": {
      "text/html": [
       "<div>\n",
       "<style scoped>\n",
       "    .dataframe tbody tr th:only-of-type {\n",
       "        vertical-align: middle;\n",
       "    }\n",
       "\n",
       "    .dataframe tbody tr th {\n",
       "        vertical-align: top;\n",
       "    }\n",
       "\n",
       "    .dataframe thead th {\n",
       "        text-align: right;\n",
       "    }\n",
       "</style>\n",
       "<table border=\"1\" class=\"dataframe\">\n",
       "  <thead>\n",
       "    <tr style=\"text-align: right;\">\n",
       "      <th></th>\n",
       "      <th>flight_id</th>\n",
       "      <th>purchased_tickets</th>\n",
       "      <th>profit</th>\n",
       "    </tr>\n",
       "  </thead>\n",
       "  <tbody>\n",
       "    <tr>\n",
       "      <th>0</th>\n",
       "      <td>136807</td>\n",
       "      <td>68</td>\n",
       "      <td>472369.4750</td>\n",
       "    </tr>\n",
       "    <tr>\n",
       "      <th>1</th>\n",
       "      <td>136642</td>\n",
       "      <td>64</td>\n",
       "      <td>473542.0855</td>\n",
       "    </tr>\n",
       "  </tbody>\n",
       "</table>\n",
       "</div>"
      ],
      "text/plain": [
       "   flight_id  purchased_tickets       profit\n",
       "0     136807                 68  472369.4750\n",
       "1     136642                 64  473542.0855"
      ]
     },
     "metadata": {},
     "output_type": "display_data"
    },
    {
     "name": "stdout",
     "output_type": "stream",
     "text": [
      "При этом средняя прибыльность рейсов составляет: 1064411\n"
     ]
    }
   ],
   "source": [
    "display(flights[['flight_id','purchased_tickets','profit']][flights['profit']<500000])\n",
    "print(f'При этом средняя прибыльность рейсов составляет: {round(np.mean(flights.profit))}')"
   ]
  },
  {
   "cell_type": "markdown",
   "metadata": {},
   "source": [
    "3.Большинство рейсов в Белгород не приносят большой прибыли. Поэтому можно подумать либо о полной смене направления, либо частичной(один день - самолет летит в Белгород, а на следующий - в другой город).\n"
   ]
  }
 ],
 "metadata": {
  "kernelspec": {
   "display_name": "Python 3",
   "language": "python",
   "name": "python3"
  },
  "language_info": {
   "codemirror_mode": {
    "name": "ipython",
    "version": 3
   },
   "file_extension": ".py",
   "mimetype": "text/x-python",
   "name": "python",
   "nbconvert_exporter": "python",
   "pygments_lexer": "ipython3",
   "version": "3.8.5"
  }
 },
 "nbformat": 4,
 "nbformat_minor": 4
}
