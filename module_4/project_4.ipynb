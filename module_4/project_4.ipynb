{
 "cells": [
  {
   "cell_type": "code",
   "execution_count": 1,
   "metadata": {},
   "outputs": [],
   "source": [
    "import pandas as pd\n",
    "import matplotlib.pyplot as plt\n",
    "import seaborn as sns\n",
    "import warnings; warnings.simplefilter('ignore')\n",
    "import datetime\n",
    "import numpy as np\n",
    "pd.set_option('display.max_rows', 50) \n",
    "pd.set_option('display.max_columns', 50) \n",
    "\n",
    "flights = pd.read_csv('flights.csv')"
   ]
  },
  {
   "cell_type": "code",
   "execution_count": 2,
   "metadata": {},
   "outputs": [
    {
     "data": {
      "text/html": [
       "<div>\n",
       "<style scoped>\n",
       "    .dataframe tbody tr th:only-of-type {\n",
       "        vertical-align: middle;\n",
       "    }\n",
       "\n",
       "    .dataframe tbody tr th {\n",
       "        vertical-align: top;\n",
       "    }\n",
       "\n",
       "    .dataframe thead th {\n",
       "        text-align: right;\n",
       "    }\n",
       "</style>\n",
       "<table border=\"1\" class=\"dataframe\">\n",
       "  <thead>\n",
       "    <tr style=\"text-align: right;\">\n",
       "      <th></th>\n",
       "      <th>flight_id</th>\n",
       "      <th>actual_departure</th>\n",
       "      <th>departure_city</th>\n",
       "      <th>arrival_city</th>\n",
       "      <th>model</th>\n",
       "      <th>purchased_tickets</th>\n",
       "      <th>count_free_seats</th>\n",
       "      <th>business</th>\n",
       "      <th>economy</th>\n",
       "      <th>amount_tickets</th>\n",
       "      <th>minute_in_way</th>\n",
       "      <th>fuel_consumption</th>\n",
       "      <th>profit</th>\n",
       "    </tr>\n",
       "  </thead>\n",
       "  <tbody>\n",
       "    <tr>\n",
       "      <th>112</th>\n",
       "      <td>136423</td>\n",
       "      <td>2017-01-10T10:12:00Z</td>\n",
       "      <td>Anapa</td>\n",
       "      <td>Moscow</td>\n",
       "      <td>Boeing 737-300</td>\n",
       "      <td>129</td>\n",
       "      <td>1</td>\n",
       "      <td>11</td>\n",
       "      <td>118</td>\n",
       "      <td>240422000.0</td>\n",
       "      <td>100.0</td>\n",
       "      <td>165740000.0</td>\n",
       "      <td>74682000.0</td>\n",
       "    </tr>\n",
       "    <tr>\n",
       "      <th>20</th>\n",
       "      <td>136861</td>\n",
       "      <td>2017-02-12T09:28:00Z</td>\n",
       "      <td>Anapa</td>\n",
       "      <td>Belgorod</td>\n",
       "      <td>Sukhoi Superjet-100</td>\n",
       "      <td>87</td>\n",
       "      <td>10</td>\n",
       "      <td>11</td>\n",
       "      <td>76</td>\n",
       "      <td>66842700.0</td>\n",
       "      <td>49.0</td>\n",
       "      <td>57457914.5</td>\n",
       "      <td>9384785.5</td>\n",
       "    </tr>\n",
       "    <tr>\n",
       "      <th>25</th>\n",
       "      <td>136754</td>\n",
       "      <td>2017-02-06T09:29:00Z</td>\n",
       "      <td>Anapa</td>\n",
       "      <td>Belgorod</td>\n",
       "      <td>Sukhoi Superjet-100</td>\n",
       "      <td>90</td>\n",
       "      <td>7</td>\n",
       "      <td>12</td>\n",
       "      <td>78</td>\n",
       "      <td>69956400.0</td>\n",
       "      <td>49.0</td>\n",
       "      <td>57457914.5</td>\n",
       "      <td>12498485.5</td>\n",
       "    </tr>\n",
       "    <tr>\n",
       "      <th>55</th>\n",
       "      <td>136781</td>\n",
       "      <td>2017-01-14T09:26:00Z</td>\n",
       "      <td>Anapa</td>\n",
       "      <td>Belgorod</td>\n",
       "      <td>Sukhoi Superjet-100</td>\n",
       "      <td>97</td>\n",
       "      <td>0</td>\n",
       "      <td>12</td>\n",
       "      <td>85</td>\n",
       "      <td>74234100.0</td>\n",
       "      <td>50.0</td>\n",
       "      <td>58630525.0</td>\n",
       "      <td>15603575.0</td>\n",
       "    </tr>\n",
       "    <tr>\n",
       "      <th>11</th>\n",
       "      <td>136936</td>\n",
       "      <td>2017-01-02T09:28:00Z</td>\n",
       "      <td>Anapa</td>\n",
       "      <td>Belgorod</td>\n",
       "      <td>Sukhoi Superjet-100</td>\n",
       "      <td>82</td>\n",
       "      <td>15</td>\n",
       "      <td>9</td>\n",
       "      <td>73</td>\n",
       "      <td>61342800.0</td>\n",
       "      <td>50.0</td>\n",
       "      <td>58630525.0</td>\n",
       "      <td>2712275.0</td>\n",
       "    </tr>\n",
       "    <tr>\n",
       "      <th>4</th>\n",
       "      <td>136922</td>\n",
       "      <td>2017-02-11T09:27:00Z</td>\n",
       "      <td>Anapa</td>\n",
       "      <td>Belgorod</td>\n",
       "      <td>Sukhoi Superjet-100</td>\n",
       "      <td>76</td>\n",
       "      <td>21</td>\n",
       "      <td>10</td>\n",
       "      <td>66</td>\n",
       "      <td>58956600.0</td>\n",
       "      <td>50.0</td>\n",
       "      <td>58630525.0</td>\n",
       "      <td>326075.0</td>\n",
       "    </tr>\n",
       "    <tr>\n",
       "      <th>2</th>\n",
       "      <td>136844</td>\n",
       "      <td>2017-02-28T09:26:00Z</td>\n",
       "      <td>Anapa</td>\n",
       "      <td>Belgorod</td>\n",
       "      <td>Sukhoi Superjet-100</td>\n",
       "      <td>79</td>\n",
       "      <td>18</td>\n",
       "      <td>6</td>\n",
       "      <td>73</td>\n",
       "      <td>55784700.0</td>\n",
       "      <td>50.0</td>\n",
       "      <td>58630525.0</td>\n",
       "      <td>-2845825.0</td>\n",
       "    </tr>\n",
       "    <tr>\n",
       "      <th>107</th>\n",
       "      <td>136463</td>\n",
       "      <td>2017-01-20T10:06:00Z</td>\n",
       "      <td>Anapa</td>\n",
       "      <td>Moscow</td>\n",
       "      <td>Boeing 737-300</td>\n",
       "      <td>122</td>\n",
       "      <td>8</td>\n",
       "      <td>12</td>\n",
       "      <td>110</td>\n",
       "      <td>232492000.0</td>\n",
       "      <td>99.0</td>\n",
       "      <td>164082600.0</td>\n",
       "      <td>68409400.0</td>\n",
       "    </tr>\n",
       "    <tr>\n",
       "      <th>18</th>\n",
       "      <td>136709</td>\n",
       "      <td>2017-01-15T09:28:00Z</td>\n",
       "      <td>Anapa</td>\n",
       "      <td>Belgorod</td>\n",
       "      <td>Sukhoi Superjet-100</td>\n",
       "      <td>87</td>\n",
       "      <td>10</td>\n",
       "      <td>11</td>\n",
       "      <td>76</td>\n",
       "      <td>66900900.0</td>\n",
       "      <td>50.0</td>\n",
       "      <td>58630525.0</td>\n",
       "      <td>8270375.0</td>\n",
       "    </tr>\n",
       "    <tr>\n",
       "      <th>77</th>\n",
       "      <td>136266</td>\n",
       "      <td>2017-02-27T10:08:00Z</td>\n",
       "      <td>Anapa</td>\n",
       "      <td>Moscow</td>\n",
       "      <td>Boeing 737-300</td>\n",
       "      <td>108</td>\n",
       "      <td>22</td>\n",
       "      <td>10</td>\n",
       "      <td>98</td>\n",
       "      <td>203632000.0</td>\n",
       "      <td>100.0</td>\n",
       "      <td>165740000.0</td>\n",
       "      <td>37892000.0</td>\n",
       "    </tr>\n",
       "  </tbody>\n",
       "</table>\n",
       "</div>"
      ],
      "text/plain": [
       "     flight_id      actual_departure departure_city arrival_city  \\\n",
       "112     136423  2017-01-10T10:12:00Z          Anapa       Moscow   \n",
       "20      136861  2017-02-12T09:28:00Z          Anapa     Belgorod   \n",
       "25      136754  2017-02-06T09:29:00Z          Anapa     Belgorod   \n",
       "55      136781  2017-01-14T09:26:00Z          Anapa     Belgorod   \n",
       "11      136936  2017-01-02T09:28:00Z          Anapa     Belgorod   \n",
       "4       136922  2017-02-11T09:27:00Z          Anapa     Belgorod   \n",
       "2       136844  2017-02-28T09:26:00Z          Anapa     Belgorod   \n",
       "107     136463  2017-01-20T10:06:00Z          Anapa       Moscow   \n",
       "18      136709  2017-01-15T09:28:00Z          Anapa     Belgorod   \n",
       "77      136266  2017-02-27T10:08:00Z          Anapa       Moscow   \n",
       "\n",
       "                   model  purchased_tickets  count_free_seats  business  \\\n",
       "112       Boeing 737-300                129                 1        11   \n",
       "20   Sukhoi Superjet-100                 87                10        11   \n",
       "25   Sukhoi Superjet-100                 90                 7        12   \n",
       "55   Sukhoi Superjet-100                 97                 0        12   \n",
       "11   Sukhoi Superjet-100                 82                15         9   \n",
       "4    Sukhoi Superjet-100                 76                21        10   \n",
       "2    Sukhoi Superjet-100                 79                18         6   \n",
       "107       Boeing 737-300                122                 8        12   \n",
       "18   Sukhoi Superjet-100                 87                10        11   \n",
       "77        Boeing 737-300                108                22        10   \n",
       "\n",
       "     economy  amount_tickets  minute_in_way  fuel_consumption      profit  \n",
       "112      118     240422000.0          100.0       165740000.0  74682000.0  \n",
       "20        76      66842700.0           49.0        57457914.5   9384785.5  \n",
       "25        78      69956400.0           49.0        57457914.5  12498485.5  \n",
       "55        85      74234100.0           50.0        58630525.0  15603575.0  \n",
       "11        73      61342800.0           50.0        58630525.0   2712275.0  \n",
       "4         66      58956600.0           50.0        58630525.0    326075.0  \n",
       "2         73      55784700.0           50.0        58630525.0  -2845825.0  \n",
       "107      110     232492000.0           99.0       164082600.0  68409400.0  \n",
       "18        76      66900900.0           50.0        58630525.0   8270375.0  \n",
       "77        98     203632000.0          100.0       165740000.0  37892000.0  "
      ]
     },
     "metadata": {},
     "output_type": "display_data"
    },
    {
     "name": "stdout",
     "output_type": "stream",
     "text": [
      "<class 'pandas.core.frame.DataFrame'>\n",
      "RangeIndex: 118 entries, 0 to 117\n",
      "Data columns (total 13 columns):\n",
      " #   Column             Non-Null Count  Dtype  \n",
      "---  ------             --------------  -----  \n",
      " 0   flight_id          118 non-null    int64  \n",
      " 1   actual_departure   118 non-null    object \n",
      " 2   departure_city     118 non-null    object \n",
      " 3   arrival_city       118 non-null    object \n",
      " 4   model              118 non-null    object \n",
      " 5   purchased_tickets  118 non-null    int64  \n",
      " 6   count_free_seats   118 non-null    int64  \n",
      " 7   business           118 non-null    int64  \n",
      " 8   economy            118 non-null    int64  \n",
      " 9   amount_tickets     118 non-null    float64\n",
      " 10  minute_in_way      118 non-null    float64\n",
      " 11  fuel_consumption   118 non-null    float64\n",
      " 12  profit             118 non-null    float64\n",
      "dtypes: float64(4), int64(5), object(4)\n",
      "memory usage: 12.1+ KB\n"
     ]
    },
    {
     "data": {
      "text/plain": [
       "None"
      ]
     },
     "metadata": {},
     "output_type": "display_data"
    }
   ],
   "source": [
    "display(flights.sample(10))\n",
    "display(flights.info())"
   ]
  },
  {
   "cell_type": "markdown",
   "metadata": {},
   "source": [
    "В данном датасете есть информация по 118 рейсам, совершенным зимой 2017 года из Анапы. 8 числовых столбцов(не считая flight_id) и 4 строковых(1 из них дата вылета). Сразу же отредактируем формат даты, отбросим из неё информацию о времени."
   ]
  },
  {
   "cell_type": "code",
   "execution_count": 3,
   "metadata": {},
   "outputs": [],
   "source": [
    "flights.actual_departure = flights.actual_departure.apply(lambda x: datetime.datetime.strptime(x, '%Y-%m-%dT%H:%M:%SZ').date())"
   ]
  },
  {
   "cell_type": "markdown",
   "metadata": {},
   "source": [
    "Посмотрим общую статистику для числовых столбцов."
   ]
  },
  {
   "cell_type": "code",
   "execution_count": 4,
   "metadata": {},
   "outputs": [
    {
     "data": {
      "text/html": [
       "<div>\n",
       "<style scoped>\n",
       "    .dataframe tbody tr th:only-of-type {\n",
       "        vertical-align: middle;\n",
       "    }\n",
       "\n",
       "    .dataframe tbody tr th {\n",
       "        vertical-align: top;\n",
       "    }\n",
       "\n",
       "    .dataframe thead th {\n",
       "        text-align: right;\n",
       "    }\n",
       "</style>\n",
       "<table border=\"1\" class=\"dataframe\">\n",
       "  <thead>\n",
       "    <tr style=\"text-align: right;\">\n",
       "      <th></th>\n",
       "      <th>flight_id</th>\n",
       "      <th>purchased_tickets</th>\n",
       "      <th>count_free_seats</th>\n",
       "      <th>business</th>\n",
       "      <th>economy</th>\n",
       "      <th>amount_tickets</th>\n",
       "      <th>minute_in_way</th>\n",
       "      <th>fuel_consumption</th>\n",
       "      <th>profit</th>\n",
       "    </tr>\n",
       "  </thead>\n",
       "  <tbody>\n",
       "    <tr>\n",
       "      <th>count</th>\n",
       "      <td>118.000000</td>\n",
       "      <td>118.000000</td>\n",
       "      <td>118.000000</td>\n",
       "      <td>118.000000</td>\n",
       "      <td>118.000000</td>\n",
       "      <td>1.180000e+02</td>\n",
       "      <td>118.000000</td>\n",
       "      <td>1.180000e+02</td>\n",
       "      <td>1.180000e+02</td>\n",
       "    </tr>\n",
       "    <tr>\n",
       "      <th>mean</th>\n",
       "      <td>136533.440678</td>\n",
       "      <td>101.652542</td>\n",
       "      <td>11.847458</td>\n",
       "      <td>10.788136</td>\n",
       "      <td>90.864407</td>\n",
       "      <td>1.412236e+08</td>\n",
       "      <td>74.957627</td>\n",
       "      <td>1.120945e+08</td>\n",
       "      <td>2.912909e+07</td>\n",
       "    </tr>\n",
       "    <tr>\n",
       "      <th>std</th>\n",
       "      <td>261.971994</td>\n",
       "      <td>14.295643</td>\n",
       "      <td>9.865443</td>\n",
       "      <td>1.395057</td>\n",
       "      <td>14.028003</td>\n",
       "      <td>7.375326e+07</td>\n",
       "      <td>24.992783</td>\n",
       "      <td>5.360719e+07</td>\n",
       "      <td>2.319906e+07</td>\n",
       "    </tr>\n",
       "    <tr>\n",
       "      <th>min</th>\n",
       "      <td>136119.000000</td>\n",
       "      <td>64.000000</td>\n",
       "      <td>0.000000</td>\n",
       "      <td>6.000000</td>\n",
       "      <td>54.000000</td>\n",
       "      <td>5.150700e+07</td>\n",
       "      <td>49.000000</td>\n",
       "      <td>5.745791e+07</td>\n",
       "      <td>-7.123525e+06</td>\n",
       "    </tr>\n",
       "    <tr>\n",
       "      <th>25%</th>\n",
       "      <td>136286.250000</td>\n",
       "      <td>95.000000</td>\n",
       "      <td>1.000000</td>\n",
       "      <td>10.000000</td>\n",
       "      <td>83.000000</td>\n",
       "      <td>7.240080e+07</td>\n",
       "      <td>50.000000</td>\n",
       "      <td>5.863052e+07</td>\n",
       "      <td>1.377028e+07</td>\n",
       "    </tr>\n",
       "    <tr>\n",
       "      <th>50%</th>\n",
       "      <td>136528.500000</td>\n",
       "      <td>97.000000</td>\n",
       "      <td>10.000000</td>\n",
       "      <td>11.000000</td>\n",
       "      <td>85.500000</td>\n",
       "      <td>1.279870e+08</td>\n",
       "      <td>74.500000</td>\n",
       "      <td>1.111142e+08</td>\n",
       "      <td>1.647064e+07</td>\n",
       "    </tr>\n",
       "    <tr>\n",
       "      <th>75%</th>\n",
       "      <td>136768.500000</td>\n",
       "      <td>111.750000</td>\n",
       "      <td>20.000000</td>\n",
       "      <td>12.000000</td>\n",
       "      <td>101.750000</td>\n",
       "      <td>2.113605e+08</td>\n",
       "      <td>100.000000</td>\n",
       "      <td>1.657400e+08</td>\n",
       "      <td>4.717080e+07</td>\n",
       "    </tr>\n",
       "    <tr>\n",
       "      <th>max</th>\n",
       "      <td>136956.000000</td>\n",
       "      <td>130.000000</td>\n",
       "      <td>33.000000</td>\n",
       "      <td>12.000000</td>\n",
       "      <td>118.000000</td>\n",
       "      <td>2.451800e+08</td>\n",
       "      <td>103.000000</td>\n",
       "      <td>1.707122e+08</td>\n",
       "      <td>7.944000e+07</td>\n",
       "    </tr>\n",
       "  </tbody>\n",
       "</table>\n",
       "</div>"
      ],
      "text/plain": [
       "           flight_id  purchased_tickets  count_free_seats    business  \\\n",
       "count     118.000000         118.000000        118.000000  118.000000   \n",
       "mean   136533.440678         101.652542         11.847458   10.788136   \n",
       "std       261.971994          14.295643          9.865443    1.395057   \n",
       "min    136119.000000          64.000000          0.000000    6.000000   \n",
       "25%    136286.250000          95.000000          1.000000   10.000000   \n",
       "50%    136528.500000          97.000000         10.000000   11.000000   \n",
       "75%    136768.500000         111.750000         20.000000   12.000000   \n",
       "max    136956.000000         130.000000         33.000000   12.000000   \n",
       "\n",
       "          economy  amount_tickets  minute_in_way  fuel_consumption  \\\n",
       "count  118.000000    1.180000e+02     118.000000      1.180000e+02   \n",
       "mean    90.864407    1.412236e+08      74.957627      1.120945e+08   \n",
       "std     14.028003    7.375326e+07      24.992783      5.360719e+07   \n",
       "min     54.000000    5.150700e+07      49.000000      5.745791e+07   \n",
       "25%     83.000000    7.240080e+07      50.000000      5.863052e+07   \n",
       "50%     85.500000    1.279870e+08      74.500000      1.111142e+08   \n",
       "75%    101.750000    2.113605e+08     100.000000      1.657400e+08   \n",
       "max    118.000000    2.451800e+08     103.000000      1.707122e+08   \n",
       "\n",
       "             profit  \n",
       "count  1.180000e+02  \n",
       "mean   2.912909e+07  \n",
       "std    2.319906e+07  \n",
       "min   -7.123525e+06  \n",
       "25%    1.377028e+07  \n",
       "50%    1.647064e+07  \n",
       "75%    4.717080e+07  \n",
       "max    7.944000e+07  "
      ]
     },
     "metadata": {},
     "output_type": "display_data"
    }
   ],
   "source": [
    "display(flights.describe())"
   ]
  },
  {
   "cell_type": "code",
   "execution_count": 5,
   "metadata": {},
   "outputs": [],
   "source": [
    "def statistics(column):\n",
    "    graph=pd.DataFrame({'Рейсы до Москвы' : list(flights[column][flights.arrival_city=='Moscow']),\n",
    "                           'Рейсы до Белгорода' : list(flights[column][flights.arrival_city=='Belgorod'])})\n",
    "    graph.plot(kind='hist', bins=59, alpha = 0.7)\n",
    "    print('Общая статистика:')\n",
    "    display(flights[column].describe())\n",
    "    print('Статистика рейсов до Москвы:')\n",
    "    display(flights[column][flights.arrival_city=='Moscow'].describe())\n",
    "    print('Статистика рейсов до Белгорода:')\n",
    "    display(flights[column][flights.arrival_city=='Belgorod'].describe())\n",
    "    "
   ]
  },
  {
   "cell_type": "markdown",
   "metadata": {},
   "source": [
    "## Рассмотрим распределение признаков"
   ]
  },
  {
   "cell_type": "markdown",
   "metadata": {},
   "source": [
    "Столбец flight_id является идентификатором рейса и не нуждается в анализе.\n",
    "Целевой переменной является столбец profit, ра него мы и посмотрим в первую очередь. "
   ]
  },
  {
   "cell_type": "markdown",
   "metadata": {},
   "source": [
    "### Profit"
   ]
  },
  {
   "cell_type": "code",
   "execution_count": 6,
   "metadata": {},
   "outputs": [
    {
     "data": {
      "text/plain": [
       "<AxesSubplot:>"
      ]
     },
     "execution_count": 6,
     "metadata": {},
     "output_type": "execute_result"
    },
    {
     "data": {
      "image/png": "[encoded data removed]",
      "text/plain": [
       "<Figure size 720x504 with 1 Axes>"
      ]
     },
     "metadata": {
      "needs_background": "light"
     },
     "output_type": "display_data"
    }
   ],
   "source": [
    "plt.rcParams['figure.figsize'] = (10,7)\n",
    "flights['profit'].hist(bins=118)\n"
   ]
  },
  {
   "cell_type": "markdown",
   "metadata": {},
   "source": [
    "По графику видно что 3 рейса имеют отрицательную прибыль, т.е терпят убытки.\n",
    "Посмотрим что это за рейсы"
   ]
  },
  {
   "cell_type": "code",
   "execution_count": 7,
   "metadata": {},
   "outputs": [
    {
     "data": {
      "text/html": [
       "<div>\n",
       "<style scoped>\n",
       "    .dataframe tbody tr th:only-of-type {\n",
       "        vertical-align: middle;\n",
       "    }\n",
       "\n",
       "    .dataframe tbody tr th {\n",
       "        vertical-align: top;\n",
       "    }\n",
       "\n",
       "    .dataframe thead th {\n",
       "        text-align: right;\n",
       "    }\n",
       "</style>\n",
       "<table border=\"1\" class=\"dataframe\">\n",
       "  <thead>\n",
       "    <tr style=\"text-align: right;\">\n",
       "      <th></th>\n",
       "      <th>flight_id</th>\n",
       "      <th>actual_departure</th>\n",
       "      <th>departure_city</th>\n",
       "      <th>arrival_city</th>\n",
       "      <th>model</th>\n",
       "      <th>purchased_tickets</th>\n",
       "      <th>count_free_seats</th>\n",
       "      <th>business</th>\n",
       "      <th>economy</th>\n",
       "      <th>amount_tickets</th>\n",
       "      <th>minute_in_way</th>\n",
       "      <th>fuel_consumption</th>\n",
       "      <th>profit</th>\n",
       "    </tr>\n",
       "  </thead>\n",
       "  <tbody>\n",
       "    <tr>\n",
       "      <th>0</th>\n",
       "      <td>136807</td>\n",
       "      <td>2017-02-23</td>\n",
       "      <td>Anapa</td>\n",
       "      <td>Belgorod</td>\n",
       "      <td>Sukhoi Superjet-100</td>\n",
       "      <td>68</td>\n",
       "      <td>29</td>\n",
       "      <td>8</td>\n",
       "      <td>60</td>\n",
       "      <td>51507000.0</td>\n",
       "      <td>50.0</td>\n",
       "      <td>58630525.0</td>\n",
       "      <td>-7123525.0</td>\n",
       "    </tr>\n",
       "    <tr>\n",
       "      <th>1</th>\n",
       "      <td>136642</td>\n",
       "      <td>2017-01-30</td>\n",
       "      <td>Anapa</td>\n",
       "      <td>Belgorod</td>\n",
       "      <td>Sukhoi Superjet-100</td>\n",
       "      <td>64</td>\n",
       "      <td>33</td>\n",
       "      <td>10</td>\n",
       "      <td>54</td>\n",
       "      <td>51507000.0</td>\n",
       "      <td>49.0</td>\n",
       "      <td>57457914.5</td>\n",
       "      <td>-5950914.5</td>\n",
       "    </tr>\n",
       "    <tr>\n",
       "      <th>2</th>\n",
       "      <td>136844</td>\n",
       "      <td>2017-02-28</td>\n",
       "      <td>Anapa</td>\n",
       "      <td>Belgorod</td>\n",
       "      <td>Sukhoi Superjet-100</td>\n",
       "      <td>79</td>\n",
       "      <td>18</td>\n",
       "      <td>6</td>\n",
       "      <td>73</td>\n",
       "      <td>55784700.0</td>\n",
       "      <td>50.0</td>\n",
       "      <td>58630525.0</td>\n",
       "      <td>-2845825.0</td>\n",
       "    </tr>\n",
       "  </tbody>\n",
       "</table>\n",
       "</div>"
      ],
      "text/plain": [
       "   flight_id actual_departure departure_city arrival_city  \\\n",
       "0     136807       2017-02-23          Anapa     Belgorod   \n",
       "1     136642       2017-01-30          Anapa     Belgorod   \n",
       "2     136844       2017-02-28          Anapa     Belgorod   \n",
       "\n",
       "                 model  purchased_tickets  count_free_seats  business  \\\n",
       "0  Sukhoi Superjet-100                 68                29         8   \n",
       "1  Sukhoi Superjet-100                 64                33        10   \n",
       "2  Sukhoi Superjet-100                 79                18         6   \n",
       "\n",
       "   economy  amount_tickets  minute_in_way  fuel_consumption     profit  \n",
       "0       60      51507000.0           50.0        58630525.0 -7123525.0  \n",
       "1       54      51507000.0           49.0        57457914.5 -5950914.5  \n",
       "2       73      55784700.0           50.0        58630525.0 -2845825.0  "
      ]
     },
     "metadata": {},
     "output_type": "display_data"
    }
   ],
   "source": [
    "display(flights[flights.profit<0])"
   ]
  },
  {
   "cell_type": "markdown",
   "metadata": {},
   "source": [
    "Рейсы, которые терпят убытки - это рейсы до Белгорода. Давайте посмотрим распределение этого признака с разделением по городам прибытия."
   ]
  },
  {
   "cell_type": "code",
   "execution_count": 8,
   "metadata": {},
   "outputs": [
    {
     "name": "stdout",
     "output_type": "stream",
     "text": [
      "Общая статистика:\n"
     ]
    },
    {
     "data": {
      "text/plain": [
       "count    1.180000e+02\n",
       "mean     2.912909e+07\n",
       "std      2.319906e+07\n",
       "min     -7.123525e+06\n",
       "25%      1.377028e+07\n",
       "50%      1.647064e+07\n",
       "75%      4.717080e+07\n",
       "max      7.944000e+07\n",
       "Name: profit, dtype: float64"
      ]
     },
     "metadata": {},
     "output_type": "display_data"
    },
    {
     "name": "stdout",
     "output_type": "stream",
     "text": [
      "Статистика рейсов до Москвы:\n"
     ]
    },
    {
     "data": {
      "text/plain": [
       "count    5.900000e+01\n",
       "mean     4.807583e+07\n",
       "std      1.776850e+07\n",
       "min      1.561660e+07\n",
       "25%      3.571130e+07\n",
       "50%      4.749260e+07\n",
       "75%      6.190940e+07\n",
       "max      7.944000e+07\n",
       "Name: profit, dtype: float64"
      ]
     },
     "metadata": {},
     "output_type": "display_data"
    },
    {
     "name": "stdout",
     "output_type": "stream",
     "text": [
      "Статистика рейсов до Белгорода:\n"
     ]
    },
    {
     "data": {
      "text/plain": [
       "count    5.900000e+01\n",
       "mean     1.018235e+07\n",
       "std      6.294131e+06\n",
       "min     -7.123525e+06\n",
       "25%      5.516120e+06\n",
       "50%      1.377028e+07\n",
       "75%      1.499248e+07\n",
       "max      1.677619e+07\n",
       "Name: profit, dtype: float64"
      ]
     },
     "metadata": {},
     "output_type": "display_data"
    },
    {
     "data": {
      "image/png": "[encoded data removed]",
      "text/plain": [
       "<Figure size 720x504 with 1 Axes>"
      ]
     },
     "metadata": {
      "needs_background": "light"
     },
     "output_type": "display_data"
    }
   ],
   "source": [
    "\n",
    "statistics('profit')"
   ]
  },
  {
   "cell_type": "markdown",
   "metadata": {},
   "source": [
    "По графикy видно, что наибольшая выручка от рейсов в Москву. "
   ]
  },
  {
   "cell_type": "markdown",
   "metadata": {},
   "source": [
    "## Arrival_city и Model\n",
    "Посмотрим как распределены города прибытия и модели самолетов. Нам известно, что каждый день из Анапы вылетает по 2 самолета: 1й - в Москву, 2й - в Белгород. Давайте посмотрим какие модели куда летают."
   ]
  },
  {
   "cell_type": "code",
   "execution_count": 9,
   "metadata": {},
   "outputs": [
    {
     "data": {
      "text/plain": [
       "<AxesSubplot:xlabel='arrival_city', ylabel='count'>"
      ]
     },
     "execution_count": 9,
     "metadata": {},
     "output_type": "execute_result"
    },
    {
     "data": {
      "image/png": "[encoded data removed]",
      "text/plain": [
       "<Figure size 720x504 with 1 Axes>"
      ]
     },
     "metadata": {
      "needs_background": "light"
     },
     "output_type": "display_data"
    }
   ],
   "source": [
    "sns.countplot(flights.loc[:,'arrival_city'][flights.model == 'Sukhoi Superjet-100'])"
   ]
  },
  {
   "cell_type": "code",
   "execution_count": 10,
   "metadata": {},
   "outputs": [
    {
     "data": {
      "text/plain": [
       "<AxesSubplot:xlabel='arrival_city', ylabel='count'>"
      ]
     },
     "execution_count": 10,
     "metadata": {},
     "output_type": "execute_result"
    },
    {
     "data": {
      "image/png": "[encoded data removed]",
      "text/plain": [
       "<Figure size 720x504 with 1 Axes>"
      ]
     },
     "metadata": {
      "needs_background": "light"
     },
     "output_type": "display_data"
    }
   ],
   "source": [
    "sns.countplot(flights.loc[:,'arrival_city'][flights.model == 'Boeing 737-300'])"
   ]
  },
  {
   "cell_type": "markdown",
   "metadata": {},
   "source": [
    "Значит все самолеты модели Boeing 737-300 совершают рейсы в Москву, а модель Sukhoi Superjet-100 летает в Белгород. Давайте посмотрим как сильно различаются показатели прибыли по городам."
   ]
  },
  {
   "cell_type": "code",
   "execution_count": 11,
   "metadata": {},
   "outputs": [
    {
     "data": {
      "text/plain": [
       "(array([0, 1]), [Text(0, 0, 'Belgorod'), Text(1, 0, 'Moscow')])"
      ]
     },
     "execution_count": 11,
     "metadata": {},
     "output_type": "execute_result"
    },
    {
     "data": {
      "image/png": "[encoded data removed]",
      "text/plain": [
       "<Figure size 720x504 with 1 Axes>"
      ]
     },
     "metadata": {
      "needs_background": "light"
     },
     "output_type": "display_data"
    }
   ],
   "source": [
    "sns.boxplot(x='arrival_city', y='profit', \n",
    "               data = flights)\n",
    "plt.xticks(rotation=45)"
   ]
  },
  {
   "cell_type": "markdown",
   "metadata": {},
   "source": [
    "По графику видно, как сильно отличается прибыльность рейсов в Москву и Белгород."
   ]
  },
  {
   "cell_type": "markdown",
   "metadata": {},
   "source": [
    "## Purchased_tickets \n",
    "Так как максимальное количество мест в самолетах разное, лучше посмотрим на распределение этого признака как по каждому из самолетов, так и общее. Вместе с этим посмотрим, как часто самолет заполнялся менее чем на 75 процентов."
   ]
  },
  {
   "cell_type": "code",
   "execution_count": 12,
   "metadata": {},
   "outputs": [
    {
     "name": "stdout",
     "output_type": "stream",
     "text": [
      "Общая статистика:\n"
     ]
    },
    {
     "data": {
      "text/plain": [
       "count    118.000000\n",
       "mean     101.652542\n",
       "std       14.295643\n",
       "min       64.000000\n",
       "25%       95.000000\n",
       "50%       97.000000\n",
       "75%      111.750000\n",
       "max      130.000000\n",
       "Name: purchased_tickets, dtype: float64"
      ]
     },
     "metadata": {},
     "output_type": "display_data"
    },
    {
     "name": "stdout",
     "output_type": "stream",
     "text": [
      "Статистика рейсов до Москвы:\n"
     ]
    },
    {
     "data": {
      "text/plain": [
       "count     59.000000\n",
       "mean     113.118644\n",
       "std        8.896115\n",
       "min       97.000000\n",
       "25%      107.000000\n",
       "50%      112.000000\n",
       "75%      120.000000\n",
       "max      130.000000\n",
       "Name: purchased_tickets, dtype: float64"
      ]
     },
     "metadata": {},
     "output_type": "display_data"
    },
    {
     "name": "stdout",
     "output_type": "stream",
     "text": [
      "Статистика рейсов до Белгорода:\n"
     ]
    },
    {
     "data": {
      "text/plain": [
       "count    59.000000\n",
       "mean     90.186441\n",
       "std       8.101670\n",
       "min      64.000000\n",
       "25%      86.500000\n",
       "50%      95.000000\n",
       "75%      97.000000\n",
       "max      97.000000\n",
       "Name: purchased_tickets, dtype: float64"
      ]
     },
     "metadata": {},
     "output_type": "display_data"
    },
    {
     "data": {
      "image/png": "[encoded data removed]",
      "text/plain": [
       "<Figure size 720x504 with 1 Axes>"
      ]
     },
     "metadata": {
      "needs_background": "light"
     },
     "output_type": "display_data"
    }
   ],
   "source": [
    "\n",
    "statistics('purchased_tickets')"
   ]
  },
  {
   "cell_type": "code",
   "execution_count": 13,
   "metadata": {},
   "outputs": [
    {
     "name": "stdout",
     "output_type": "stream",
     "text": [
      "Количество рейсов до Москвы, заполненных менее чем на 75%: 0\n",
      "Количество рейсов до Белгорода, заполненных менее чем на 75%: 2\n"
     ]
    }
   ],
   "source": [
    "print(f'Количество рейсов до Москвы, заполненных менее чем на 75%: {sum(flights.purchased_tickets[flights.arrival_city==\"Moscow\"] < int(130*0.75))}')\n",
    "print(f'Количество рейсов до Белгорода, заполненных менее чем на 75%: {sum(flights.purchased_tickets[flights.arrival_city==\"Belgorod\"] < int(97*0.75))}')"
   ]
  },
  {
   "cell_type": "markdown",
   "metadata": {},
   "source": [
    "2 малозаполненных рейса на Белгород. Давайте посмотрим, входят ли эти 2 рейса в число убыточных."
   ]
  },
  {
   "cell_type": "code",
   "execution_count": 14,
   "metadata": {},
   "outputs": [
    {
     "data": {
      "text/html": [
       "<div>\n",
       "<style scoped>\n",
       "    .dataframe tbody tr th:only-of-type {\n",
       "        vertical-align: middle;\n",
       "    }\n",
       "\n",
       "    .dataframe tbody tr th {\n",
       "        vertical-align: top;\n",
       "    }\n",
       "\n",
       "    .dataframe thead th {\n",
       "        text-align: right;\n",
       "    }\n",
       "</style>\n",
       "<table border=\"1\" class=\"dataframe\">\n",
       "  <thead>\n",
       "    <tr style=\"text-align: right;\">\n",
       "      <th></th>\n",
       "      <th>flight_id</th>\n",
       "      <th>actual_departure</th>\n",
       "      <th>departure_city</th>\n",
       "      <th>arrival_city</th>\n",
       "      <th>model</th>\n",
       "      <th>purchased_tickets</th>\n",
       "      <th>count_free_seats</th>\n",
       "      <th>business</th>\n",
       "      <th>economy</th>\n",
       "      <th>amount_tickets</th>\n",
       "      <th>minute_in_way</th>\n",
       "      <th>fuel_consumption</th>\n",
       "      <th>profit</th>\n",
       "    </tr>\n",
       "  </thead>\n",
       "  <tbody>\n",
       "    <tr>\n",
       "      <th>0</th>\n",
       "      <td>136807</td>\n",
       "      <td>2017-02-23</td>\n",
       "      <td>Anapa</td>\n",
       "      <td>Belgorod</td>\n",
       "      <td>Sukhoi Superjet-100</td>\n",
       "      <td>68</td>\n",
       "      <td>29</td>\n",
       "      <td>8</td>\n",
       "      <td>60</td>\n",
       "      <td>51507000.0</td>\n",
       "      <td>50.0</td>\n",
       "      <td>58630525.0</td>\n",
       "      <td>-7123525.0</td>\n",
       "    </tr>\n",
       "    <tr>\n",
       "      <th>1</th>\n",
       "      <td>136642</td>\n",
       "      <td>2017-01-30</td>\n",
       "      <td>Anapa</td>\n",
       "      <td>Belgorod</td>\n",
       "      <td>Sukhoi Superjet-100</td>\n",
       "      <td>64</td>\n",
       "      <td>33</td>\n",
       "      <td>10</td>\n",
       "      <td>54</td>\n",
       "      <td>51507000.0</td>\n",
       "      <td>49.0</td>\n",
       "      <td>57457914.5</td>\n",
       "      <td>-5950914.5</td>\n",
       "    </tr>\n",
       "  </tbody>\n",
       "</table>\n",
       "</div>"
      ],
      "text/plain": [
       "   flight_id actual_departure departure_city arrival_city  \\\n",
       "0     136807       2017-02-23          Anapa     Belgorod   \n",
       "1     136642       2017-01-30          Anapa     Belgorod   \n",
       "\n",
       "                 model  purchased_tickets  count_free_seats  business  \\\n",
       "0  Sukhoi Superjet-100                 68                29         8   \n",
       "1  Sukhoi Superjet-100                 64                33        10   \n",
       "\n",
       "   economy  amount_tickets  minute_in_way  fuel_consumption     profit  \n",
       "0       60      51507000.0           50.0        58630525.0 -7123525.0  \n",
       "1       54      51507000.0           49.0        57457914.5 -5950914.5  "
      ]
     },
     "metadata": {},
     "output_type": "display_data"
    }
   ],
   "source": [
    "display(flights[(flights['purchased_tickets'] < int(97*0.75)) & (flights['profit'] < 0)])\n"
   ]
  },
  {
   "cell_type": "markdown",
   "metadata": {},
   "source": [
    "Да, 2 самых убыточных рейса являются также и самыми плохо заполненными. "
   ]
  },
  {
   "cell_type": "markdown",
   "metadata": {},
   "source": [
    "## count_free_seats\n",
    "Посмотрим как часто в продаже остаются билеты на самолеты."
   ]
  },
  {
   "cell_type": "code",
   "execution_count": 15,
   "metadata": {},
   "outputs": [
    {
     "name": "stdout",
     "output_type": "stream",
     "text": [
      "Общая статистика:\n"
     ]
    },
    {
     "data": {
      "text/plain": [
       "count    118.000000\n",
       "mean      11.847458\n",
       "std        9.865443\n",
       "min        0.000000\n",
       "25%        1.000000\n",
       "50%       10.000000\n",
       "75%       20.000000\n",
       "max       33.000000\n",
       "Name: count_free_seats, dtype: float64"
      ]
     },
     "metadata": {},
     "output_type": "display_data"
    },
    {
     "name": "stdout",
     "output_type": "stream",
     "text": [
      "Статистика рейсов до Москвы:\n"
     ]
    },
    {
     "data": {
      "text/plain": [
       "count    59.000000\n",
       "mean     16.881356\n",
       "std       8.896115\n",
       "min       0.000000\n",
       "25%      10.000000\n",
       "50%      18.000000\n",
       "75%      23.000000\n",
       "max      33.000000\n",
       "Name: count_free_seats, dtype: float64"
      ]
     },
     "metadata": {},
     "output_type": "display_data"
    },
    {
     "name": "stdout",
     "output_type": "stream",
     "text": [
      "Статистика рейсов до Белгорода:\n"
     ]
    },
    {
     "data": {
      "text/plain": [
       "count    59.000000\n",
       "mean      6.813559\n",
       "std       8.101670\n",
       "min       0.000000\n",
       "25%       0.000000\n",
       "50%       2.000000\n",
       "75%      10.500000\n",
       "max      33.000000\n",
       "Name: count_free_seats, dtype: float64"
      ]
     },
     "metadata": {},
     "output_type": "display_data"
    },
    {
     "data": {
      "image/png": "[encoded data removed]",
      "text/plain": [
       "<Figure size 720x504 with 1 Axes>"
      ]
     },
     "metadata": {
      "needs_background": "light"
     },
     "output_type": "display_data"
    }
   ],
   "source": [
    "statistics('count_free_seats')"
   ]
  },
  {
   "cell_type": "markdown",
   "metadata": {},
   "source": [
    "## Business and economy\n",
    "Рассмотрим распределение этих 2х признаков"
   ]
  },
  {
   "cell_type": "code",
   "execution_count": 16,
   "metadata": {},
   "outputs": [
    {
     "data": {
      "text/plain": [
       "<AxesSubplot:xlabel='model', ylabel='economy'>"
      ]
     },
     "execution_count": 16,
     "metadata": {},
     "output_type": "execute_result"
    },
    {
     "data": {
      "image/png": "[encoded data removed]",
      "text/plain": [
       "<Figure size 720x504 with 1 Axes>"
      ]
     },
     "metadata": {
      "needs_background": "light"
     },
     "output_type": "display_data"
    }
   ],
   "source": [
    "sns.barplot(x=flights.model, y = flights.economy)"
   ]
  },
  {
   "cell_type": "code",
   "execution_count": 17,
   "metadata": {},
   "outputs": [
    {
     "data": {
      "text/plain": [
       "<AxesSubplot:xlabel='model', ylabel='business'>"
      ]
     },
     "execution_count": 17,
     "metadata": {},
     "output_type": "execute_result"
    },
    {
     "data": {
      "image/png": "[encoded data removed]",
      "text/plain": [
       "<Figure size 720x504 with 1 Axes>"
      ]
     },
     "metadata": {
      "needs_background": "light"
     },
     "output_type": "display_data"
    }
   ],
   "source": [
    "sns.barplot(x=flights.model, y = flights.business)"
   ]
  },
  {
   "cell_type": "markdown",
   "metadata": {},
   "source": [
    "Давайте посмотрим, как сильно влияют на прибыль количество купленных билетов эконом и бизнес класса."
   ]
  },
  {
   "cell_type": "code",
   "execution_count": 18,
   "metadata": {},
   "outputs": [
    {
     "data": {
      "text/plain": [
       "<AxesSubplot:xlabel='profit', ylabel='business'>"
      ]
     },
     "execution_count": 18,
     "metadata": {},
     "output_type": "execute_result"
    },
    {
     "data": {
      "image/png": "[encoded data removed]",
      "text/plain": [
       "<Figure size 720x504 with 1 Axes>"
      ]
     },
     "metadata": {
      "needs_background": "light"
     },
     "output_type": "display_data"
    }
   ],
   "source": [
    "sns.scatterplot(data=flights[flights.arrival_city=='Belgorod'], x='profit', y='business', label = 'Рейсы до Белгорода' )\n",
    "sns.scatterplot(data=flights[flights.arrival_city=='Moscow'], x='profit', y='business', label = 'Рейсы до Москвы')"
   ]
  },
  {
   "cell_type": "code",
   "execution_count": 19,
   "metadata": {},
   "outputs": [
    {
     "data": {
      "text/plain": [
       "<AxesSubplot:xlabel='profit', ylabel='economy'>"
      ]
     },
     "execution_count": 19,
     "metadata": {},
     "output_type": "execute_result"
    },
    {
     "data": {
      "image/png": "[encoded data removed]",
      "text/plain": [
       "<Figure size 720x504 with 1 Axes>"
      ]
     },
     "metadata": {
      "needs_background": "light"
     },
     "output_type": "display_data"
    }
   ],
   "source": [
    "sns.scatterplot(data=flights[flights.arrival_city=='Belgorod'], x='profit', y='economy', label = 'Рейсы до Белгорода' )\n",
    "sns.scatterplot(data=flights[flights.arrival_city=='Moscow'], x='profit', y='economy', label = 'Рейсы до Москвы')"
   ]
  },
  {
   "cell_type": "markdown",
   "metadata": {},
   "source": [
    "По графикам четко видно, что основная прибыль в большинстве своем зависит от количества проданных билетов эконом класса, а зависимость количества проданных билетов бизнес класса сильнее выражена в рейсах до Белгорода. "
   ]
  },
  {
   "cell_type": "markdown",
   "metadata": {},
   "source": [
    "## Amount_tickets \n",
    "Теперь давайте посмотрим, как распределена общая стоимость билетов с разделением по городам."
   ]
  },
  {
   "cell_type": "code",
   "execution_count": 20,
   "metadata": {},
   "outputs": [
    {
     "name": "stdout",
     "output_type": "stream",
     "text": [
      "Общая статистика:\n"
     ]
    },
    {
     "data": {
      "text/plain": [
       "count    1.180000e+02\n",
       "mean     1.412236e+08\n",
       "std      7.375326e+07\n",
       "min      5.150700e+07\n",
       "25%      7.240080e+07\n",
       "50%      1.279870e+08\n",
       "75%      2.113605e+08\n",
       "max      2.451800e+08\n",
       "Name: amount_tickets, dtype: float64"
      ]
     },
     "metadata": {},
     "output_type": "display_data"
    },
    {
     "name": "stdout",
     "output_type": "stream",
     "text": [
      "Статистика рейсов до Москвы:\n"
     ]
    },
    {
     "data": {
      "text/plain": [
       "count    5.900000e+01\n",
       "mean     2.135349e+08\n",
       "std      1.714422e+07\n",
       "min      1.817400e+08\n",
       "25%      2.006160e+08\n",
       "50%      2.117180e+08\n",
       "75%      2.259920e+08\n",
       "max      2.451800e+08\n",
       "Name: amount_tickets, dtype: float64"
      ]
     },
     "metadata": {},
     "output_type": "display_data"
    },
    {
     "name": "stdout",
     "output_type": "stream",
     "text": [
      "Статистика рейсов до Белгорода:\n"
     ]
    },
    {
     "data": {
      "text/plain": [
       "count    5.900000e+01\n",
       "mean     6.891225e+07\n",
       "std      6.386021e+06\n",
       "min      5.150700e+07\n",
       "25%      6.473295e+07\n",
       "50%      7.240080e+07\n",
       "75%      7.423410e+07\n",
       "max      7.423410e+07\n",
       "Name: amount_tickets, dtype: float64"
      ]
     },
     "metadata": {},
     "output_type": "display_data"
    },
    {
     "data": {
      "image/png": "[encoded data removed]",
      "text/plain": [
       "<Figure size 720x504 with 1 Axes>"
      ]
     },
     "metadata": {
      "needs_background": "light"
     },
     "output_type": "display_data"
    }
   ],
   "source": [
    "statistics('amount_tickets')"
   ]
  },
  {
   "cell_type": "markdown",
   "metadata": {},
   "source": [
    "Достаточно большой разрыв в стоимости билетов между ~75млн и ~181 млн. Рейсы с общей стоимостью менее 75млн летят в Белгород, а стоимостью выше 180млн в Москву. Скорее всего это связано с тем, что расстояние до Москвы больше чем до Белгорода. Давайте в этом убедимся."
   ]
  },
  {
   "cell_type": "markdown",
   "metadata": {},
   "source": [
    "## Minute_in_way"
   ]
  },
  {
   "cell_type": "code",
   "execution_count": 21,
   "metadata": {},
   "outputs": [
    {
     "name": "stdout",
     "output_type": "stream",
     "text": [
      "Общая статистика:\n"
     ]
    },
    {
     "data": {
      "text/plain": [
       "count    118.000000\n",
       "mean      74.957627\n",
       "std       24.992783\n",
       "min       49.000000\n",
       "25%       50.000000\n",
       "50%       74.500000\n",
       "75%      100.000000\n",
       "max      103.000000\n",
       "Name: minute_in_way, dtype: float64"
      ]
     },
     "metadata": {},
     "output_type": "display_data"
    },
    {
     "name": "stdout",
     "output_type": "stream",
     "text": [
      "Статистика рейсов до Москвы:\n"
     ]
    },
    {
     "data": {
      "text/plain": [
       "count     59.000000\n",
       "mean      99.830508\n",
       "std        0.985280\n",
       "min       98.000000\n",
       "25%       99.000000\n",
       "50%      100.000000\n",
       "75%      100.000000\n",
       "max      103.000000\n",
       "Name: minute_in_way, dtype: float64"
      ]
     },
     "metadata": {},
     "output_type": "display_data"
    },
    {
     "name": "stdout",
     "output_type": "stream",
     "text": [
      "Статистика рейсов до Белгорода:\n"
     ]
    },
    {
     "data": {
      "text/plain": [
       "count    59.000000\n",
       "mean     50.084746\n",
       "std       0.650945\n",
       "min      49.000000\n",
       "25%      50.000000\n",
       "50%      50.000000\n",
       "75%      50.500000\n",
       "max      51.000000\n",
       "Name: minute_in_way, dtype: float64"
      ]
     },
     "metadata": {},
     "output_type": "display_data"
    },
    {
     "data": {
      "image/png": "[encoded data removed]",
      "text/plain": [
       "<Figure size 720x504 with 1 Axes>"
      ]
     },
     "metadata": {
      "needs_background": "light"
     },
     "output_type": "display_data"
    }
   ],
   "source": [
    "statistics('minute_in_way')"
   ]
  },
  {
   "cell_type": "markdown",
   "metadata": {},
   "source": [
    "Среднее время в пути до Белгорода около 50 минут, тем временем до Москвы лететь в 2 раза дольше. "
   ]
  },
  {
   "cell_type": "markdown",
   "metadata": {},
   "source": [
    "## Fuel_consumption\n",
    "Рассмотрим столбец расходов на топливо."
   ]
  },
  {
   "cell_type": "code",
   "execution_count": 22,
   "metadata": {},
   "outputs": [
    {
     "name": "stdout",
     "output_type": "stream",
     "text": [
      "Общая статистика:\n"
     ]
    },
    {
     "data": {
      "text/plain": [
       "count    1.180000e+02\n",
       "mean     1.120945e+08\n",
       "std      5.360719e+07\n",
       "min      5.745791e+07\n",
       "25%      5.863052e+07\n",
       "50%      1.111142e+08\n",
       "75%      1.657400e+08\n",
       "max      1.707122e+08\n",
       "Name: fuel_consumption, dtype: float64"
      ]
     },
     "metadata": {},
     "output_type": "display_data"
    },
    {
     "name": "stdout",
     "output_type": "stream",
     "text": [
      "Статистика рейсов до Москвы:\n"
     ]
    },
    {
     "data": {
      "text/plain": [
       "count    5.900000e+01\n",
       "mean     1.654591e+08\n",
       "std      1.633004e+06\n",
       "min      1.624252e+08\n",
       "25%      1.640826e+08\n",
       "50%      1.657400e+08\n",
       "75%      1.657400e+08\n",
       "max      1.707122e+08\n",
       "Name: fuel_consumption, dtype: float64"
      ]
     },
     "metadata": {},
     "output_type": "display_data"
    },
    {
     "name": "stdout",
     "output_type": "stream",
     "text": [
      "Статистика рейсов до Белгорода:\n"
     ]
    },
    {
     "data": {
      "text/plain": [
       "count    5.900000e+01\n",
       "mean     5.872990e+07\n",
       "std      7.633044e+05\n",
       "min      5.745791e+07\n",
       "25%      5.863052e+07\n",
       "50%      5.863052e+07\n",
       "75%      5.921683e+07\n",
       "max      5.980314e+07\n",
       "Name: fuel_consumption, dtype: float64"
      ]
     },
     "metadata": {},
     "output_type": "display_data"
    },
    {
     "data": {
      "image/png": "[encoded data removed]",
      "text/plain": [
       "<Figure size 720x504 with 1 Axes>"
      ]
     },
     "metadata": {
      "needs_background": "light"
     },
     "output_type": "display_data"
    }
   ],
   "source": [
    "statistics('fuel_consumption')"
   ]
  },
  {
   "cell_type": "code",
   "execution_count": 23,
   "metadata": {},
   "outputs": [
    {
     "data": {
      "text/plain": [
       "<AxesSubplot:xlabel='model', ylabel='fuel_consumption'>"
      ]
     },
     "execution_count": 23,
     "metadata": {},
     "output_type": "execute_result"
    },
    {
     "data": {
      "image/png": "[encoded data removed]",
      "text/plain": [
       "<Figure size 720x504 with 1 Axes>"
      ]
     },
     "metadata": {
      "needs_background": "light"
     },
     "output_type": "display_data"
    }
   ],
   "source": [
    "sns.barplot(x=flights.model, y = flights.fuel_consumption)"
   ]
  },
  {
   "cell_type": "markdown",
   "metadata": {},
   "source": [
    "Расходы на топливо у Boeing значительно больше, чем у Sukhoi Superjet."
   ]
  },
  {
   "cell_type": "markdown",
   "metadata": {},
   "source": [
    "# Рекомендации: "
   ]
  },
  {
   "cell_type": "markdown",
   "metadata": {},
   "source": [
    "1. Расчет прибыли производился по простейшей формуле: сумма выкупленных билетов - расходы на топливо на рейс.\n",
    "2. Рейсы, которые я предлагаю убрать и их предполагаемая прибыльность:"
   ]
  },
  {
   "cell_type": "code",
   "execution_count": 24,
   "metadata": {},
   "outputs": [
    {
     "data": {
      "text/html": [
       "<div>\n",
       "<style scoped>\n",
       "    .dataframe tbody tr th:only-of-type {\n",
       "        vertical-align: middle;\n",
       "    }\n",
       "\n",
       "    .dataframe tbody tr th {\n",
       "        vertical-align: top;\n",
       "    }\n",
       "\n",
       "    .dataframe thead th {\n",
       "        text-align: right;\n",
       "    }\n",
       "</style>\n",
       "<table border=\"1\" class=\"dataframe\">\n",
       "  <thead>\n",
       "    <tr style=\"text-align: right;\">\n",
       "      <th></th>\n",
       "      <th>flight_id</th>\n",
       "      <th>profit</th>\n",
       "    </tr>\n",
       "  </thead>\n",
       "  <tbody>\n",
       "    <tr>\n",
       "      <th>0</th>\n",
       "      <td>136807</td>\n",
       "      <td>-7123525.0</td>\n",
       "    </tr>\n",
       "    <tr>\n",
       "      <th>1</th>\n",
       "      <td>136642</td>\n",
       "      <td>-5950914.5</td>\n",
       "    </tr>\n",
       "    <tr>\n",
       "      <th>2</th>\n",
       "      <td>136844</td>\n",
       "      <td>-2845825.0</td>\n",
       "    </tr>\n",
       "  </tbody>\n",
       "</table>\n",
       "</div>"
      ],
      "text/plain": [
       "   flight_id     profit\n",
       "0     136807 -7123525.0\n",
       "1     136642 -5950914.5\n",
       "2     136844 -2845825.0"
      ]
     },
     "metadata": {},
     "output_type": "display_data"
    },
    {
     "name": "stdout",
     "output_type": "stream",
     "text": [
      "При этом средняя прибыльность рейсов составляет: 29129092\n"
     ]
    }
   ],
   "source": [
    "display(flights[['flight_id','profit']][flights['profit']<0])\n",
    "print(f'При этом средняя прибыльность рейсов составляет: {round(np.mean(flights.profit))}')"
   ]
  },
  {
   "cell_type": "markdown",
   "metadata": {},
   "source": [
    "3.Большинство рейсов в Белгород не приносят большой прибыли. Поэтому можно подумать либо о полной смене направления, либо частичной(один день - самолет летит в Белгород, а на следующий - в другой город).\n"
   ]
  }
 ],
 "metadata": {
  "kernelspec": {
   "display_name": "Python 3",
   "language": "python",
   "name": "python3"
  },
  "language_info": {
   "codemirror_mode": {
    "name": "ipython",
    "version": 3
   },
   "file_extension": ".py",
   "mimetype": "text/x-python",
   "name": "python",
   "nbconvert_exporter": "python",
   "pygments_lexer": "ipython3",
   "version": "3.8.5"
  }
 },
 "nbformat": 4,
 "nbformat_minor": 4
}
